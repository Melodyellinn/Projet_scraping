{
 "cells": [
  {
   "cell_type": "markdown",
   "id": "6b5138b3",
   "metadata": {},
   "source": [
    "## Import modul and library"
   ]
  },
  {
   "cell_type": "code",
   "execution_count": 1,
   "id": "a6c9a59f",
   "metadata": {},
   "outputs": [],
   "source": [
    "from bs4 import BeautifulSoup\n",
    "import requests\n",
    "import pandas as pd"
   ]
  },
  {
   "cell_type": "markdown",
   "id": "0ab73e33",
   "metadata": {},
   "source": [
    "## Request page source from URL"
   ]
  },
  {
   "cell_type": "code",
   "execution_count": 2,
   "id": "6e8ec6fc",
   "metadata": {},
   "outputs": [],
   "source": [
    "url = \"https://www.imdb.com/search/title/?groups=top_250&sort=user_rating\"\n",
    "\n",
    "url_2 = \"https://www.imdb.com/search/title/?groups=top_250&sort=user_rating,desc&start=51&ref_=adv_nxt\"\n",
    "\n",
    "url_3 = \"https://www.imdb.com/search/title/?groups=top_250&sort=user_rating,desc&start=101&ref_=adv_nxt\"\n",
    "\n",
    "url_4 = \"https://www.imdb.com/search/title/?groups=top_250&sort=user_rating,desc&start=151&ref_=adv_nxt\"\n",
    "\n",
    "url_5 = \"https://www.imdb.com/search/title/?groups=top_250&sort=user_rating,desc&start=201&ref_=adv_nxt\"\n",
    "\n",
    "urls=[url, url_2, url_3, url_4, url_5]"
   ]
  },
  {
   "cell_type": "code",
   "execution_count": 3,
   "id": "7202981a",
   "metadata": {},
   "outputs": [],
   "source": [
    "movies_data=[]\n",
    "\n",
    "headers = {\"Accept-Language\": \"en-US,en;q=0.5\"}\n",
    "\n",
    "# Boucler sur les urls définies plus haut\n",
    "for url in urls:\n",
    "    # récupérer le html de la page\n",
    "    data = requests.get(url, headers=headers)\n",
    "    \n",
    "    # ajouter les données de la page html à BeautifulSoup\n",
    "    soup =  BeautifulSoup(data.text, 'html.parser')\n",
    "    \n",
    "    # Boucler sur chaque div contenant les infos nécessaires (classe de la div = 'lister-item-content')\n",
    "    for div in soup.find_all('div', { 'class' : 'lister-item-content' }):\n",
    "        # Récupérer le titre et retirer les balises html\n",
    "        title = div.find('a')\n",
    "        title_text = title.text\n",
    "        # Récupérer l'année et retirer les balises html\n",
    "        year = div.find(\"span\", class_=\"lister-item-year\").text\n",
    "        # Récupérer la durée et retirer les balises html\n",
    "        runtime = div.find('span', {'class':'runtime'}).text\n",
    "        # Récupérer le genre et retirer les balises html\n",
    "        genre = div.find('span', {'class':'genre'}).text.strip()\n",
    "\n",
    "        # ajouter les 4 éléments de chaque films dans une liste\n",
    "        data_list = [title_text, year, runtime, genre]\n",
    "        # ajouter tous les éléments des 50 films dans une liste\n",
    "        movies_data.append(data_list)"
   ]
  },
  {
   "cell_type": "code",
   "execution_count": 4,
   "id": "6555e8aa",
   "metadata": {},
   "outputs": [],
   "source": [
    "#création des colonnes\n",
    "data2 = pd.DataFrame(movies_data, columns = ['Title', 'Year_of_release', 'Duration_in_minutes', 'Genre'])"
   ]
  },
  {
   "cell_type": "code",
   "execution_count": 6,
   "id": "4f35f98a",
   "metadata": {},
   "outputs": [],
   "source": [
    "#remplacer\n",
    "data2.Title = data2.Title.apply(lambda x:x.replace(\" \", \"_\"))"
   ]
  },
  {
   "cell_type": "code",
   "execution_count": 7,
   "id": "0b9a1e66",
   "metadata": {},
   "outputs": [],
   "source": [
    "data2.Title = data2.Title.apply(lambda x:x.replace(\"The_\", \"\"))"
   ]
  },
  {
   "cell_type": "markdown",
   "id": "255e5a6a",
   "metadata": {},
   "source": [
    "## Tomato score and audience score"
   ]
  },
  {
   "cell_type": "code",
   "execution_count": 10,
   "id": "aab1f301",
   "metadata": {},
   "outputs": [],
   "source": [
    "uri = 'https://www.rottentomatoes.com/m/'"
   ]
  },
  {
   "cell_type": "code",
   "execution_count": 11,
   "id": "eddccc4d",
   "metadata": {
    "scrolled": false
   },
   "outputs": [],
   "source": [
    "urilist = []\n",
    "for i in data2[\"Title\"]:\n",
    "    response = (f'{uri}{str(i)}')\n",
    "    urilist.append(response)"
   ]
  },
  {
   "cell_type": "code",
   "execution_count": 19,
   "id": "ba96aead",
   "metadata": {},
   "outputs": [
    {
     "name": "stdout",
     "output_type": "stream",
     "text": [
      "[['91', '98'], ['97', '98'], ['not found', 'not_found'], ['not found', 'not_found'], ['not found', 'not_found'], ['not found', 'not_found'], ['92', '96'], ['not found', 'not_found'], ['87', '91'], ['79', '96'], ['not found', 'not_found'], ['71', '95'], ['not found', 'not_found'], ['not found', 'not_found'], ['88', '85'], ['96', '97'], ['not found', 'not_found'], ['not found', 'not_found'], ['', ''], ['72', '86'], ['91', '97'], ['97', '96'], ['93', '95'], ['78', '94'], ['not found', 'not_found'], ['not found', 'not_found'], ['96', '95'], ['not found', 'not_found'], ['not found', 'not_found'], ['not found', 'not_found'], ['not found', 'not_found'], ['not found', 'not_found'], ['75', '93'], ['76', '92'], ['90', '94'], ['95', '96'], ['77', '87'], ['83', '96'], ['88', '96'], ['not found', 'not_found'], ['93', '93'], ['not found', 'not_found'], ['90', '97'], ['100', '95'], ['96', '94'], ['95', '95'], ['96', '95'], ['97', '94'], ['98', '95'], ['not found', 'not_found'], ['98', '95'], ['98', '96'], ['not found', 'not_found'], ['90', '93'], ['', ''], ['not found', 'not_found'], ['88', '94'], ['not found', 'not_found'], ['not found', 'not_found'], ['not found', 'not_found'], ['', ''], ['87', '91'], ['not found', 'not_found'], ['100', '93'], ['91', '96'], ['not found', 'not_found'], ['not found', 'not_found'], ['81', '94'], ['93', '94'], ['not found', 'not_found'], ['95', '96'], ['84', '93'], ['98', '94'], ['98', '94'], ['95', '95'], ['not found', 'not_found'], ['100', '95'], ['95', '95'], ['not found', 'not_found'], ['93', '95'], ['not found', 'not_found'], ['', '20'], ['not found', 'not_found'], ['92', '92'], ['', ''], ['89', '88'], ['92', '94'], ['not found', 'not_found'], ['74', '93'], ['79', '93'], ['87', '93'], ['98', '94'], ['83', '96'], ['100', '92'], ['not found', 'not_found'], ['92', '94'], ['92', '94'], ['not found', 'not_found'], ['not found', 'not_found'], ['87', '93'], ['93', '95'], ['82', '93'], ['not found', 'not_found'], ['98', '95'], ['73', '94'], ['not found', 'not_found'], ['not found', 'not_found'], ['not found', 'not_found'], ['93', '92'], ['93', '93'], ['not found', 'not_found'], ['97', '94'], ['94', '93'], ['not found', 'not_found'], ['98', '97'], ['98', '94'], ['97', '95'], ['99', '90'], ['not found', 'not_found'], ['not found', 'not_found'], ['not found', 'not_found'], ['100', '91'], ['77', '91'], ['not found', 'not_found'], ['94', '96'], ['88', '89'], ['97', '90'], ['89', '93'], ['', '75'], ['not found', 'not_found'], ['98', '90'], ['not found', 'not_found'], ['not found', 'not_found'], ['91', '86'], ['not found', 'not_found'], ['98', '90'], ['84', '94'], ['90', '94'], ['not found', 'not_found'], ['74', '93'], ['not found', 'not_found'], ['not found', 'not_found'], ['not found', 'not_found'], ['not found', 'not_found'], ['', ''], ['', ''], ['88', '94'], ['94', '94'], ['94', '94'], ['96', '95'], ['94', '93'], ['86', '92'], ['96', '93'], ['97', '95'], ['99', '93'], ['94', '93'], ['92', '94'], ['94', '95'], ['95', '96'], ['92', '93'], ['94', '94'], ['96', '94'], ['94', '93'], ['89', '92'], ['100', '93'], ['98', '93'], ['not found', 'not_found'], ['100', '93'], ['96', '93'], ['not found', 'not_found'], ['not found', 'not_found'], ['not found', 'not_found'], ['not found', 'not_found'], ['not found', 'not_found'], ['not found', 'not_found'], ['94', '92'], ['not found', 'not_found'], ['87', '87'], ['84', '91'], ['', '36'], ['95', '90'], ['', ''], ['92', '98'], ['not found', 'not_found'], ['', ''], ['not found', 'not_found'], ['not found', 'not_found'], ['81', '90'], ['not found', 'not_found'], ['not found', 'not_found'], ['not found', 'not_found'], ['99', '91'], ['83', '89'], ['93', '86'], ['73', '90'], ['90', '90'], ['91', '94'], ['94', '92'], ['', ''], ['not found', 'not_found'], ['99', '86'], ['96', '89'], ['not found', 'not_found'], ['not found', 'not_found'], ['not found', 'not_found'], ['86', '90'], ['95', '89'], ['83', '93'], ['not found', 'not_found'], ['91', '93'], ['94', '93'], ['100', '95'], ['100', '93'], ['not found', 'not_found'], ['92', '91'], ['94', '95'], ['85', '92'], ['98', '94'], ['', ''], ['87', '93'], ['not found', 'not_found'], ['not found', 'not_found'], ['34', '42'], ['100', '94'], ['90', '91'], ['', '86'], ['', ''], ['not found', 'not_found'], ['92', '92'], ['', ''], ['92', '93'], ['91', '92'], ['100', '95'], ['91', '94'], ['95', '93'], ['99', '95'], ['94', '92'], ['98', '94'], ['not found', 'not_found'], ['100', '94'], ['95', '93'], ['99', '95'], ['100', '95'], ['99', '93'], ['39', '39'], ['not found', 'not_found'], ['90', '92'], ['99', '93'], ['98', '93'], ['not found', 'not_found']]\n"
     ]
    }
   ],
   "source": [
    "score_data = []\n",
    "\n",
    "for title in data2['Title']:\n",
    "    changed_title = title.replace(\" \", \"_\").replace(\"The_\", \"\")\n",
    "    url = f'{uri}{changed_title}'\n",
    "    data = requests.get(url, headers=headers)\n",
    "#Une condition pour éviter que la boucle s'arrête sur une erreur 404    \n",
    "    if data.status_code == 404:\n",
    "        score_list = ['not found', 'not_found']\n",
    "        score_data.append(score_list)\n",
    "#         print(score_data)\n",
    "        continue\n",
    "    else:\n",
    "        soup_ = BeautifulSoup(data.text, 'html.parser') #s'il n'y a pas d'erreur il applique la fonction soup\n",
    "\n",
    "        audience_score = soup_.find(\"score-board\")[\"audiencescore\"] #find sur les notes audiences balise \"score-board\"\n",
    "        tomato_score = soup_.find(\"score-board\")[\"tomatometerscore\"] #find sur les notes tomatos balise \"score-board\"\n",
    "\n",
    "        score_list = [tomato_score, audience_score] #list les scores\n",
    "\n",
    "        score_data.append(score_list)\n",
    "        \n",
    "print(score_data)"
   ]
  },
  {
   "cell_type": "code",
   "execution_count": 20,
   "id": "2b39eda7",
   "metadata": {},
   "outputs": [
    {
     "data": {
      "text/html": [
       "<div>\n",
       "<style scoped>\n",
       "    .dataframe tbody tr th:only-of-type {\n",
       "        vertical-align: middle;\n",
       "    }\n",
       "\n",
       "    .dataframe tbody tr th {\n",
       "        vertical-align: top;\n",
       "    }\n",
       "\n",
       "    .dataframe thead th {\n",
       "        text-align: right;\n",
       "    }\n",
       "</style>\n",
       "<table border=\"1\" class=\"dataframe\">\n",
       "  <thead>\n",
       "    <tr style=\"text-align: right;\">\n",
       "      <th></th>\n",
       "      <th>Score_Tomatos</th>\n",
       "      <th>Score_Audience</th>\n",
       "    </tr>\n",
       "  </thead>\n",
       "  <tbody>\n",
       "    <tr>\n",
       "      <th>0</th>\n",
       "      <td>91</td>\n",
       "      <td>98</td>\n",
       "    </tr>\n",
       "    <tr>\n",
       "      <th>1</th>\n",
       "      <td>97</td>\n",
       "      <td>98</td>\n",
       "    </tr>\n",
       "    <tr>\n",
       "      <th>2</th>\n",
       "      <td>not found</td>\n",
       "      <td>not_found</td>\n",
       "    </tr>\n",
       "    <tr>\n",
       "      <th>3</th>\n",
       "      <td>not found</td>\n",
       "      <td>not_found</td>\n",
       "    </tr>\n",
       "    <tr>\n",
       "      <th>4</th>\n",
       "      <td>not found</td>\n",
       "      <td>not_found</td>\n",
       "    </tr>\n",
       "    <tr>\n",
       "      <th>...</th>\n",
       "      <td>...</td>\n",
       "      <td>...</td>\n",
       "    </tr>\n",
       "    <tr>\n",
       "      <th>245</th>\n",
       "      <td>not found</td>\n",
       "      <td>not_found</td>\n",
       "    </tr>\n",
       "    <tr>\n",
       "      <th>246</th>\n",
       "      <td>90</td>\n",
       "      <td>92</td>\n",
       "    </tr>\n",
       "    <tr>\n",
       "      <th>247</th>\n",
       "      <td>99</td>\n",
       "      <td>93</td>\n",
       "    </tr>\n",
       "    <tr>\n",
       "      <th>248</th>\n",
       "      <td>98</td>\n",
       "      <td>93</td>\n",
       "    </tr>\n",
       "    <tr>\n",
       "      <th>249</th>\n",
       "      <td>not found</td>\n",
       "      <td>not_found</td>\n",
       "    </tr>\n",
       "  </tbody>\n",
       "</table>\n",
       "<p>250 rows × 2 columns</p>\n",
       "</div>"
      ],
      "text/plain": [
       "    Score_Tomatos Score_Audience\n",
       "0              91             98\n",
       "1              97             98\n",
       "2       not found      not_found\n",
       "3       not found      not_found\n",
       "4       not found      not_found\n",
       "..            ...            ...\n",
       "245     not found      not_found\n",
       "246            90             92\n",
       "247            99             93\n",
       "248            98             93\n",
       "249     not found      not_found\n",
       "\n",
       "[250 rows x 2 columns]"
      ]
     },
     "execution_count": 20,
     "metadata": {},
     "output_type": "execute_result"
    }
   ],
   "source": [
    "#création du df et nommer les colonnes\n",
    "score_rotten = pd.DataFrame(score_data, columns=['Score_Tomatos', 'Score_Audience'])\n",
    "score_rotten"
   ]
  },
  {
   "cell_type": "code",
   "execution_count": 21,
   "id": "28baba76",
   "metadata": {},
   "outputs": [],
   "source": [
    "# merge les deux df\n",
    "df_scraping = data2.merge(score_rotten, how='inner', left_index=True, right_index=True)"
   ]
  },
  {
   "cell_type": "code",
   "execution_count": null,
   "id": "846a8bab",
   "metadata": {},
   "outputs": [],
   "source": []
  }
 ],
 "metadata": {
  "kernelspec": {
   "display_name": "Python 3",
   "language": "python",
   "name": "python3"
  },
  "language_info": {
   "codemirror_mode": {
    "name": "ipython",
    "version": 3
   },
   "file_extension": ".py",
   "mimetype": "text/x-python",
   "name": "python",
   "nbconvert_exporter": "python",
   "pygments_lexer": "ipython3",
   "version": "3.8.8"
  }
 },
 "nbformat": 4,
 "nbformat_minor": 5
}
