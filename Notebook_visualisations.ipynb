{
 "cells": [
  {
   "cell_type": "markdown",
   "id": "047aff7b",
   "metadata": {},
   "source": [
    "## 📊 Visualisations csv IMDb 🎥"
   ]
  },
  {
   "cell_type": "markdown",
   "id": "d7c1c0a9",
   "metadata": {},
   "source": [
    "🎬 Import librairies"
   ]
  },
  {
   "cell_type": "code",
   "execution_count": 60,
   "id": "f90cf712",
   "metadata": {},
   "outputs": [],
   "source": [
    "import pandas as pd\n",
    "import numpy as np\n",
    "import seaborn as sns\n",
    "import matplotlib.pyplot as plt"
   ]
  },
  {
   "cell_type": "markdown",
   "id": "066a3798",
   "metadata": {},
   "source": [
    "🎬 Import Dataset"
   ]
  },
  {
   "cell_type": "code",
   "execution_count": 61,
   "id": "1ef02a6a",
   "metadata": {},
   "outputs": [
    {
     "data": {
      "text/html": [
       "<div>\n",
       "<style scoped>\n",
       "    .dataframe tbody tr th:only-of-type {\n",
       "        vertical-align: middle;\n",
       "    }\n",
       "\n",
       "    .dataframe tbody tr th {\n",
       "        vertical-align: top;\n",
       "    }\n",
       "\n",
       "    .dataframe thead th {\n",
       "        text-align: right;\n",
       "    }\n",
       "</style>\n",
       "<table border=\"1\" class=\"dataframe\">\n",
       "  <thead>\n",
       "    <tr style=\"text-align: right;\">\n",
       "      <th></th>\n",
       "      <th>Films</th>\n",
       "      <th>Année</th>\n",
       "      <th>Directeur</th>\n",
       "      <th>Durée</th>\n",
       "      <th>Genre</th>\n",
       "      <th>Note</th>\n",
       "      <th>Metascore</th>\n",
       "      <th>Votes</th>\n",
       "      <th>Prix</th>\n",
       "    </tr>\n",
       "  </thead>\n",
       "  <tbody>\n",
       "    <tr>\n",
       "      <th>0</th>\n",
       "      <td>The Shawshank Redemption</td>\n",
       "      <td>1994</td>\n",
       "      <td>Frank Darabont</td>\n",
       "      <td>142</td>\n",
       "      <td>Drama</td>\n",
       "      <td>9.3</td>\n",
       "      <td>80.0</td>\n",
       "      <td>2480727</td>\n",
       "      <td>28.34</td>\n",
       "    </tr>\n",
       "    <tr>\n",
       "      <th>1</th>\n",
       "      <td>The Godfather</td>\n",
       "      <td>1972</td>\n",
       "      <td>Francis Ford Coppola</td>\n",
       "      <td>175</td>\n",
       "      <td>Crime, Drama</td>\n",
       "      <td>9.2</td>\n",
       "      <td>100.0</td>\n",
       "      <td>1713388</td>\n",
       "      <td>134.97</td>\n",
       "    </tr>\n",
       "    <tr>\n",
       "      <th>2</th>\n",
       "      <td>The Dark Knight</td>\n",
       "      <td>2008</td>\n",
       "      <td>Christopher Nolan</td>\n",
       "      <td>152</td>\n",
       "      <td>Action, Crime, Drama</td>\n",
       "      <td>9.0</td>\n",
       "      <td>84.0</td>\n",
       "      <td>2435080</td>\n",
       "      <td>534.86</td>\n",
       "    </tr>\n",
       "    <tr>\n",
       "      <th>3</th>\n",
       "      <td>The Godfather: Part II</td>\n",
       "      <td>1974</td>\n",
       "      <td>Francis Ford Coppola</td>\n",
       "      <td>202</td>\n",
       "      <td>Crime, Drama</td>\n",
       "      <td>9.0</td>\n",
       "      <td>90.0</td>\n",
       "      <td>1190161</td>\n",
       "      <td>57.30</td>\n",
       "    </tr>\n",
       "    <tr>\n",
       "      <th>4</th>\n",
       "      <td>12 Angry Men</td>\n",
       "      <td>1957</td>\n",
       "      <td>Sidney Lumet</td>\n",
       "      <td>96</td>\n",
       "      <td>Crime, Drama</td>\n",
       "      <td>9.0</td>\n",
       "      <td>96.0</td>\n",
       "      <td>734230</td>\n",
       "      <td>4.36</td>\n",
       "    </tr>\n",
       "    <tr>\n",
       "      <th>...</th>\n",
       "      <td>...</td>\n",
       "      <td>...</td>\n",
       "      <td>...</td>\n",
       "      <td>...</td>\n",
       "      <td>...</td>\n",
       "      <td>...</td>\n",
       "      <td>...</td>\n",
       "      <td>...</td>\n",
       "      <td>...</td>\n",
       "    </tr>\n",
       "    <tr>\n",
       "      <th>225</th>\n",
       "      <td>Back to the Future</td>\n",
       "      <td>1985</td>\n",
       "      <td>Robert Zemeckis</td>\n",
       "      <td>116</td>\n",
       "      <td>Adventure, Comedy, Sci-Fi</td>\n",
       "      <td>8.5</td>\n",
       "      <td>87.0</td>\n",
       "      <td>1119879</td>\n",
       "      <td>210.61</td>\n",
       "    </tr>\n",
       "    <tr>\n",
       "      <th>226</th>\n",
       "      <td>Once Upon a Time in the West</td>\n",
       "      <td>1968</td>\n",
       "      <td>Sergio Leone</td>\n",
       "      <td>165</td>\n",
       "      <td>Western</td>\n",
       "      <td>8.5</td>\n",
       "      <td>80.0</td>\n",
       "      <td>315851</td>\n",
       "      <td>5.32</td>\n",
       "    </tr>\n",
       "    <tr>\n",
       "      <th>227</th>\n",
       "      <td>Psycho</td>\n",
       "      <td>1960</td>\n",
       "      <td>Alfred Hitchcock</td>\n",
       "      <td>109</td>\n",
       "      <td>Horror, Mystery, Thriller</td>\n",
       "      <td>8.5</td>\n",
       "      <td>97.0</td>\n",
       "      <td>634922</td>\n",
       "      <td>32.00</td>\n",
       "    </tr>\n",
       "    <tr>\n",
       "      <th>228</th>\n",
       "      <td>Rear Window</td>\n",
       "      <td>1954</td>\n",
       "      <td>Alfred Hitchcock</td>\n",
       "      <td>112</td>\n",
       "      <td>Mystery, Thriller</td>\n",
       "      <td>8.5</td>\n",
       "      <td>100.0</td>\n",
       "      <td>468018</td>\n",
       "      <td>36.76</td>\n",
       "    </tr>\n",
       "    <tr>\n",
       "      <th>229</th>\n",
       "      <td>Casablanca</td>\n",
       "      <td>1942</td>\n",
       "      <td>Michael Curtiz</td>\n",
       "      <td>102</td>\n",
       "      <td>Drama, Romance, War</td>\n",
       "      <td>8.5</td>\n",
       "      <td>100.0</td>\n",
       "      <td>545364</td>\n",
       "      <td>1.02</td>\n",
       "    </tr>\n",
       "  </tbody>\n",
       "</table>\n",
       "<p>230 rows × 9 columns</p>\n",
       "</div>"
      ],
      "text/plain": [
       "                            Films  Année             Directeur  Durée  \\\n",
       "0        The Shawshank Redemption   1994        Frank Darabont    142   \n",
       "1                   The Godfather   1972  Francis Ford Coppola    175   \n",
       "2                 The Dark Knight   2008     Christopher Nolan    152   \n",
       "3          The Godfather: Part II   1974  Francis Ford Coppola    202   \n",
       "4                    12 Angry Men   1957          Sidney Lumet     96   \n",
       "..                            ...    ...                   ...    ...   \n",
       "225            Back to the Future   1985       Robert Zemeckis    116   \n",
       "226  Once Upon a Time in the West   1968          Sergio Leone    165   \n",
       "227                        Psycho   1960      Alfred Hitchcock    109   \n",
       "228                   Rear Window   1954      Alfred Hitchcock    112   \n",
       "229                    Casablanca   1942        Michael Curtiz    102   \n",
       "\n",
       "                                     Genre  Note  Metascore    Votes    Prix  \n",
       "0                        Drama               9.3       80.0  2480727   28.34  \n",
       "1                 Crime, Drama               9.2      100.0  1713388  134.97  \n",
       "2         Action, Crime, Drama               9.0       84.0  2435080  534.86  \n",
       "3                 Crime, Drama               9.0       90.0  1190161   57.30  \n",
       "4                 Crime, Drama               9.0       96.0   734230    4.36  \n",
       "..                                     ...   ...        ...      ...     ...  \n",
       "225  Adventure, Comedy, Sci-Fi               8.5       87.0  1119879  210.61  \n",
       "226                    Western               8.5       80.0   315851    5.32  \n",
       "227  Horror, Mystery, Thriller               8.5       97.0   634922   32.00  \n",
       "228          Mystery, Thriller               8.5      100.0   468018   36.76  \n",
       "229        Drama, Romance, War               8.5      100.0   545364    1.02  \n",
       "\n",
       "[230 rows x 9 columns]"
      ]
     },
     "execution_count": 61,
     "metadata": {},
     "output_type": "execute_result"
    }
   ],
   "source": [
    "df = pd.read_csv(\"C:/Users/zaome/Documents/Arthuro/Projet_scraping/movies.csv\")\n",
    "df = df.drop('Unnamed: 0', axis=1)\n",
    "df"
   ]
  },
  {
   "cell_type": "markdown",
   "id": "3a71111b",
   "metadata": {},
   "source": [
    "🎬 Data type"
   ]
  },
  {
   "cell_type": "code",
   "execution_count": 62,
   "id": "67b1f26d",
   "metadata": {},
   "outputs": [
    {
     "data": {
      "text/plain": [
       "Films         object\n",
       "Année          int64\n",
       "Directeur     object\n",
       "Durée          int64\n",
       "Genre         object\n",
       "Note         float64\n",
       "Metascore    float64\n",
       "Votes          int64\n",
       "Prix         float64\n",
       "dtype: object"
      ]
     },
     "execution_count": 62,
     "metadata": {},
     "output_type": "execute_result"
    }
   ],
   "source": [
    "df.dtypes"
   ]
  },
  {
   "cell_type": "markdown",
   "id": "b0cf1fa8",
   "metadata": {},
   "source": [
    "📊 Correlation"
   ]
  },
  {
   "cell_type": "code",
   "execution_count": 63,
   "id": "bcce707f",
   "metadata": {},
   "outputs": [
    {
     "data": {
      "text/plain": [
       "<AxesSubplot:>"
      ]
     },
     "execution_count": 63,
     "metadata": {},
     "output_type": "execute_result"
    },
    {
     "data": {
      "image/png": "[encoded data removed]",
      "text/plain": [
       "<Figure size 432x288 with 2 Axes>"
      ]
     },
     "metadata": {
      "needs_background": "light"
     },
     "output_type": "display_data"
    }
   ],
   "source": [
    "sns.heatmap(df.corr(),annot = True)"
   ]
  },
  {
   "cell_type": "markdown",
   "id": "699ac06e",
   "metadata": {},
   "source": [
    "🎬 Films les mieux notés"
   ]
  },
  {
   "cell_type": "code",
   "execution_count": 64,
   "id": "828bc8de",
   "metadata": {},
   "outputs": [
    {
     "data": {
      "image/png": "[encoded data removed]",
      "text/plain": [
       "<Figure size 1440x360 with 1 Axes>"
      ]
     },
     "metadata": {
      "needs_background": "light"
     },
     "output_type": "display_data"
    }
   ],
   "source": [
    "fig,axs = plt.subplots(figsize=(20,5))\n",
    "g = sns.barplot(x = df['Films'][:7],y = df['Note'][:7], palette = 'Purples')\n",
    "g.set_title(\"IMDB Rating of top voted movies\", weight = \"bold\")\n",
    "plt.show()"
   ]
  },
  {
   "cell_type": "markdown",
   "id": "229ba8dd",
   "metadata": {},
   "source": [
    "🎬 Nombre de vote des films les mieux notés"
   ]
  },
  {
   "cell_type": "code",
   "execution_count": 65,
   "id": "77b6ed3b",
   "metadata": {},
   "outputs": [
    {
     "data": {
      "image/png": "[encoded data removed]",
      "text/plain": [
       "<Figure size 1440x360 with 1 Axes>"
      ]
     },
     "metadata": {
      "needs_background": "light"
     },
     "output_type": "display_data"
    }
   ],
   "source": [
    "fig,axs = plt.subplots(figsize=(20,5))\n",
    "g = sns.barplot(x = df['Films'][:7],y = df['Votes'][:7], palette = 'Reds')\n",
    "g.set_title(\"Top Voted Movies\", weight = \"bold\")\n",
    "plt.show()"
   ]
  },
  {
   "cell_type": "markdown",
   "id": "60d5d8dc",
   "metadata": {},
   "source": [
    "🎬 Métascore des films les mieux notés"
   ]
  },
  {
   "cell_type": "code",
   "execution_count": 66,
   "id": "54edc05e",
   "metadata": {},
   "outputs": [
    {
     "data": {
      "image/png": "[encoded data removed]",
      "text/plain": [
       "<Figure size 1440x360 with 1 Axes>"
      ]
     },
     "metadata": {
      "needs_background": "light"
     },
     "output_type": "display_data"
    }
   ],
   "source": [
    "fig,axs = plt.subplots(figsize=(20,5))\n",
    "g = sns.barplot(x = df['Films'][:7],y = df['Metascore'][:7], palette = 'Oranges')\n",
    "g.set_title(\"Metascore of top rated movies\", weight = \"bold\")\n",
    "plt.show()"
   ]
  },
  {
   "cell_type": "markdown",
   "id": "30097bb0",
   "metadata": {},
   "source": [
    "🎬 Prix des films les mieux notés"
   ]
  },
  {
   "cell_type": "code",
   "execution_count": 67,
   "id": "e92abf6e",
   "metadata": {},
   "outputs": [
    {
     "data": {
      "image/png": "[encoded data removed]",
      "text/plain": [
       "<Figure size 1440x360 with 1 Axes>"
      ]
     },
     "metadata": {
      "needs_background": "light"
     },
     "output_type": "display_data"
    }
   ],
   "source": [
    "fig,axs=plt.subplots(figsize=(20,5))\n",
    "g = sns.barplot(x = df['Films'][:7],y = df['Prix'][:7], palette = 'Blues')\n",
    "g.set_title(\"Gross by top rated movies\", weight = \"bold\")\n",
    "plt.show()"
   ]
  },
  {
   "cell_type": "markdown",
   "id": "a7eadf93",
   "metadata": {},
   "source": [
    "🎬 Directeurs"
   ]
  },
  {
   "cell_type": "code",
   "execution_count": 68,
   "id": "42056624",
   "metadata": {},
   "outputs": [
    {
     "data": {
      "application/vnd.plotly.v1+json": {
       "config": {
        "plotlyServerURL": "https://plot.ly"
       },
       "data": [
        {
         "domain": {
          "x": [
           0,
           1
          ],
          "y": [
           0,
           1
          ]
         },
         "hovertemplate": "index=%{label}<br>value=%{value}<extra></extra>",
         "labels": [
          "Christopher Nolan",
          "Peter Jackson",
          "Alfred Hitchcock",
          "Robert Zemeckis",
          "Steven Spielberg",
          "Martin Scorsese",
          "Sergio Leone",
          "David Fincher",
          "Francis Ford Coppola",
          "Frank Darabont",
          "Olivier Nakache",
          "Sidney Lumet",
          "Giuseppe Tornatore",
          "Bryan Singer",
          "Fernando Meirelles",
          "Roberto Benigni",
          "George Lucas",
          "Tony Kaye",
          "Michael Curtiz",
          "James Cameron",
          "Roger Allers",
          "Milos Forman",
          "Damien Chazelle",
          "Lana Wachowski",
          "Ridley Scott",
          "Jonathan Demme",
          "Irvin Kershner",
          "Luc Besson",
          "Roman Polanski",
          "Hayao Miyazaki",
          "Bong Joon Ho",
          "Quentin Tarantino",
          "Akira Kurosawa"
         ],
         "legendgroup": "",
         "marker": {
          "line": {
           "color": "white",
           "width": 2
          }
         },
         "name": "",
         "showlegend": true,
         "type": "pie",
         "values": [
          20,
          15,
          10,
          10,
          10,
          10,
          10,
          10,
          10,
          10,
          5,
          5,
          5,
          5,
          5,
          5,
          5,
          5,
          5,
          5,
          5,
          5,
          5,
          5,
          5,
          5,
          5,
          5,
          5,
          5,
          5,
          5,
          5
         ]
        }
       ],
       "layout": {
        "height": 700,
        "legend": {
         "tracegroupgap": 0
        },
        "margin": {
         "t": 60
        },
        "piecolorway": [
         "rgb(103,0,31)",
         "rgb(178,24,43)",
         "rgb(214,96,77)",
         "rgb(244,165,130)",
         "rgb(253,219,199)",
         "rgb(247,247,247)",
         "rgb(209,229,240)",
         "rgb(146,197,222)",
         "rgb(67,147,195)",
         "rgb(33,102,172)",
         "rgb(5,48,97)"
        ],
        "template": {
         "data": {
          "bar": [
           {
            "error_x": {
             "color": "#2a3f5f"
            },
            "error_y": {
             "color": "#2a3f5f"
            },
            "marker": {
             "line": {
              "color": "#E5ECF6",
              "width": 0.5
             },
             "pattern": {
              "fillmode": "overlay",
              "size": 10,
              "solidity": 0.2
             }
            },
            "type": "bar"
           }
          ],
          "barpolar": [
           {
            "marker": {
             "line": {
              "color": "#E5ECF6",
              "width": 0.5
             },
             "pattern": {
              "fillmode": "overlay",
              "size": 10,
              "solidity": 0.2
             }
            },
            "type": "barpolar"
           }
          ],
          "carpet": [
           {
            "aaxis": {
             "endlinecolor": "#2a3f5f",
             "gridcolor": "white",
             "linecolor": "white",
             "minorgridcolor": "white",
             "startlinecolor": "#2a3f5f"
            },
            "baxis": {
             "endlinecolor": "#2a3f5f",
             "gridcolor": "white",
             "linecolor": "white",
             "minorgridcolor": "white",
             "startlinecolor": "#2a3f5f"
            },
            "type": "carpet"
           }
          ],
          "choropleth": [
           {
            "colorbar": {
             "outlinewidth": 0,
             "ticks": ""
            },
            "type": "choropleth"
           }
          ],
          "contour": [
           {
            "colorbar": {
             "outlinewidth": 0,
             "ticks": ""
            },
            "colorscale": [
             [
              0,
              "#0d0887"
             ],
             [
              0.1111111111111111,
              "#46039f"
             ],
             [
              0.2222222222222222,
              "#7201a8"
             ],
             [
              0.3333333333333333,
              "#9c179e"
             ],
             [
              0.4444444444444444,
              "#bd3786"
             ],
             [
              0.5555555555555556,
              "#d8576b"
             ],
             [
              0.6666666666666666,
              "#ed7953"
             ],
             [
              0.7777777777777778,
              "#fb9f3a"
             ],
             [
              0.8888888888888888,
              "#fdca26"
             ],
             [
              1,
              "#f0f921"
             ]
            ],
            "type": "contour"
           }
          ],
          "contourcarpet": [
           {
            "colorbar": {
             "outlinewidth": 0,
             "ticks": ""
            },
            "type": "contourcarpet"
           }
          ],
          "heatmap": [
           {
            "colorbar": {
             "outlinewidth": 0,
             "ticks": ""
            },
            "colorscale": [
             [
              0,
              "#0d0887"
             ],
             [
              0.1111111111111111,
              "#46039f"
             ],
             [
              0.2222222222222222,
              "#7201a8"
             ],
             [
              0.3333333333333333,
              "#9c179e"
             ],
             [
              0.4444444444444444,
              "#bd3786"
             ],
             [
              0.5555555555555556,
              "#d8576b"
             ],
             [
              0.6666666666666666,
              "#ed7953"
             ],
             [
              0.7777777777777778,
              "#fb9f3a"
             ],
             [
              0.8888888888888888,
              "#fdca26"
             ],
             [
              1,
              "#f0f921"
             ]
            ],
            "type": "heatmap"
           }
          ],
          "heatmapgl": [
           {
            "colorbar": {
             "outlinewidth": 0,
             "ticks": ""
            },
            "colorscale": [
             [
              0,
              "#0d0887"
             ],
             [
              0.1111111111111111,
              "#46039f"
             ],
             [
              0.2222222222222222,
              "#7201a8"
             ],
             [
              0.3333333333333333,
              "#9c179e"
             ],
             [
              0.4444444444444444,
              "#bd3786"
             ],
             [
              0.5555555555555556,
              "#d8576b"
             ],
             [
              0.6666666666666666,
              "#ed7953"
             ],
             [
              0.7777777777777778,
              "#fb9f3a"
             ],
             [
              0.8888888888888888,
              "#fdca26"
             ],
             [
              1,
              "#f0f921"
             ]
            ],
            "type": "heatmapgl"
           }
          ],
          "histogram": [
           {
            "marker": {
             "pattern": {
              "fillmode": "overlay",
              "size": 10,
              "solidity": 0.2
             }
            },
            "type": "histogram"
           }
          ],
          "histogram2d": [
           {
            "colorbar": {
             "outlinewidth": 0,
             "ticks": ""
            },
            "colorscale": [
             [
              0,
              "#0d0887"
             ],
             [
              0.1111111111111111,
              "#46039f"
             ],
             [
              0.2222222222222222,
              "#7201a8"
             ],
             [
              0.3333333333333333,
              "#9c179e"
             ],
             [
              0.4444444444444444,
              "#bd3786"
             ],
             [
              0.5555555555555556,
              "#d8576b"
             ],
             [
              0.6666666666666666,
              "#ed7953"
             ],
             [
              0.7777777777777778,
              "#fb9f3a"
             ],
             [
              0.8888888888888888,
              "#fdca26"
             ],
             [
              1,
              "#f0f921"
             ]
            ],
            "type": "histogram2d"
           }
          ],
          "histogram2dcontour": [
           {
            "colorbar": {
             "outlinewidth": 0,
             "ticks": ""
            },
            "colorscale": [
             [
              0,
              "#0d0887"
             ],
             [
              0.1111111111111111,
              "#46039f"
             ],
             [
              0.2222222222222222,
              "#7201a8"
             ],
             [
              0.3333333333333333,
              "#9c179e"
             ],
             [
              0.4444444444444444,
              "#bd3786"
             ],
             [
              0.5555555555555556,
              "#d8576b"
             ],
             [
              0.6666666666666666,
              "#ed7953"
             ],
             [
              0.7777777777777778,
              "#fb9f3a"
             ],
             [
              0.8888888888888888,
              "#fdca26"
             ],
             [
              1,
              "#f0f921"
             ]
            ],
            "type": "histogram2dcontour"
           }
          ],
          "mesh3d": [
           {
            "colorbar": {
             "outlinewidth": 0,
             "ticks": ""
            },
            "type": "mesh3d"
           }
          ],
          "parcoords": [
           {
            "line": {
             "colorbar": {
              "outlinewidth": 0,
              "ticks": ""
             }
            },
            "type": "parcoords"
           }
          ],
          "pie": [
           {
            "automargin": true,
            "type": "pie"
           }
          ],
          "scatter": [
           {
            "marker": {
             "colorbar": {
              "outlinewidth": 0,
              "ticks": ""
             }
            },
            "type": "scatter"
           }
          ],
          "scatter3d": [
           {
            "line": {
             "colorbar": {
              "outlinewidth": 0,
              "ticks": ""
             }
            },
            "marker": {
             "colorbar": {
              "outlinewidth": 0,
              "ticks": ""
             }
            },
            "type": "scatter3d"
           }
          ],
          "scattercarpet": [
           {
            "marker": {
             "colorbar": {
              "outlinewidth": 0,
              "ticks": ""
             }
            },
            "type": "scattercarpet"
           }
          ],
          "scattergeo": [
           {
            "marker": {
             "colorbar": {
              "outlinewidth": 0,
              "ticks": ""
             }
            },
            "type": "scattergeo"
           }
          ],
          "scattergl": [
           {
            "marker": {
             "colorbar": {
              "outlinewidth": 0,
              "ticks": ""
             }
            },
            "type": "scattergl"
           }
          ],
          "scattermapbox": [
           {
            "marker": {
             "colorbar": {
              "outlinewidth": 0,
              "ticks": ""
             }
            },
            "type": "scattermapbox"
           }
          ],
          "scatterpolar": [
           {
            "marker": {
             "colorbar": {
              "outlinewidth": 0,
              "ticks": ""
             }
            },
            "type": "scatterpolar"
           }
          ],
          "scatterpolargl": [
           {
            "marker": {
             "colorbar": {
              "outlinewidth": 0,
              "ticks": ""
             }
            },
            "type": "scatterpolargl"
           }
          ],
          "scatterternary": [
           {
            "marker": {
             "colorbar": {
              "outlinewidth": 0,
              "ticks": ""
             }
            },
            "type": "scatterternary"
           }
          ],
          "surface": [
           {
            "colorbar": {
             "outlinewidth": 0,
             "ticks": ""
            },
            "colorscale": [
             [
              0,
              "#0d0887"
             ],
             [
              0.1111111111111111,
              "#46039f"
             ],
             [
              0.2222222222222222,
              "#7201a8"
             ],
             [
              0.3333333333333333,
              "#9c179e"
             ],
             [
              0.4444444444444444,
              "#bd3786"
             ],
             [
              0.5555555555555556,
              "#d8576b"
             ],
             [
              0.6666666666666666,
              "#ed7953"
             ],
             [
              0.7777777777777778,
              "#fb9f3a"
             ],
             [
              0.8888888888888888,
              "#fdca26"
             ],
             [
              1,
              "#f0f921"
             ]
            ],
            "type": "surface"
           }
          ],
          "table": [
           {
            "cells": {
             "fill": {
              "color": "#EBF0F8"
             },
             "line": {
              "color": "white"
             }
            },
            "header": {
             "fill": {
              "color": "#C8D4E3"
             },
             "line": {
              "color": "white"
             }
            },
            "type": "table"
           }
          ]
         },
         "layout": {
          "annotationdefaults": {
           "arrowcolor": "#2a3f5f",
           "arrowhead": 0,
           "arrowwidth": 1
          },
          "autotypenumbers": "strict",
          "coloraxis": {
           "colorbar": {
            "outlinewidth": 0,
            "ticks": ""
           }
          },
          "colorscale": {
           "diverging": [
            [
             0,
             "#8e0152"
            ],
            [
             0.1,
             "#c51b7d"
            ],
            [
             0.2,
             "#de77ae"
            ],
            [
             0.3,
             "#f1b6da"
            ],
            [
             0.4,
             "#fde0ef"
            ],
            [
             0.5,
             "#f7f7f7"
            ],
            [
             0.6,
             "#e6f5d0"
            ],
            [
             0.7,
             "#b8e186"
            ],
            [
             0.8,
             "#7fbc41"
            ],
            [
             0.9,
             "#4d9221"
            ],
            [
             1,
             "#276419"
            ]
           ],
           "sequential": [
            [
             0,
             "#0d0887"
            ],
            [
             0.1111111111111111,
             "#46039f"
            ],
            [
             0.2222222222222222,
             "#7201a8"
            ],
            [
             0.3333333333333333,
             "#9c179e"
            ],
            [
             0.4444444444444444,
             "#bd3786"
            ],
            [
             0.5555555555555556,
             "#d8576b"
            ],
            [
             0.6666666666666666,
             "#ed7953"
            ],
            [
             0.7777777777777778,
             "#fb9f3a"
            ],
            [
             0.8888888888888888,
             "#fdca26"
            ],
            [
             1,
             "#f0f921"
            ]
           ],
           "sequentialminus": [
            [
             0,
             "#0d0887"
            ],
            [
             0.1111111111111111,
             "#46039f"
            ],
            [
             0.2222222222222222,
             "#7201a8"
            ],
            [
             0.3333333333333333,
             "#9c179e"
            ],
            [
             0.4444444444444444,
             "#bd3786"
            ],
            [
             0.5555555555555556,
             "#d8576b"
            ],
            [
             0.6666666666666666,
             "#ed7953"
            ],
            [
             0.7777777777777778,
             "#fb9f3a"
            ],
            [
             0.8888888888888888,
             "#fdca26"
            ],
            [
             1,
             "#f0f921"
            ]
           ]
          },
          "colorway": [
           "#636efa",
           "#EF553B",
           "#00cc96",
           "#ab63fa",
           "#FFA15A",
           "#19d3f3",
           "#FF6692",
           "#B6E880",
           "#FF97FF",
           "#FECB52"
          ],
          "font": {
           "color": "#2a3f5f"
          },
          "geo": {
           "bgcolor": "white",
           "lakecolor": "white",
           "landcolor": "#E5ECF6",
           "showlakes": true,
           "showland": true,
           "subunitcolor": "white"
          },
          "hoverlabel": {
           "align": "left"
          },
          "hovermode": "closest",
          "mapbox": {
           "style": "light"
          },
          "paper_bgcolor": "white",
          "plot_bgcolor": "#E5ECF6",
          "polar": {
           "angularaxis": {
            "gridcolor": "white",
            "linecolor": "white",
            "ticks": ""
           },
           "bgcolor": "#E5ECF6",
           "radialaxis": {
            "gridcolor": "white",
            "linecolor": "white",
            "ticks": ""
           }
          },
          "scene": {
           "xaxis": {
            "backgroundcolor": "#E5ECF6",
            "gridcolor": "white",
            "gridwidth": 2,
            "linecolor": "white",
            "showbackground": true,
            "ticks": "",
            "zerolinecolor": "white"
           },
           "yaxis": {
            "backgroundcolor": "#E5ECF6",
            "gridcolor": "white",
            "gridwidth": 2,
            "linecolor": "white",
            "showbackground": true,
            "ticks": "",
            "zerolinecolor": "white"
           },
           "zaxis": {
            "backgroundcolor": "#E5ECF6",
            "gridcolor": "white",
            "gridwidth": 2,
            "linecolor": "white",
            "showbackground": true,
            "ticks": "",
            "zerolinecolor": "white"
           }
          },
          "shapedefaults": {
           "line": {
            "color": "#2a3f5f"
           }
          },
          "ternary": {
           "aaxis": {
            "gridcolor": "white",
            "linecolor": "white",
            "ticks": ""
           },
           "baxis": {
            "gridcolor": "white",
            "linecolor": "white",
            "ticks": ""
           },
           "bgcolor": "#E5ECF6",
           "caxis": {
            "gridcolor": "white",
            "linecolor": "white",
            "ticks": ""
           }
          },
          "title": {
           "x": 0.05
          },
          "xaxis": {
           "automargin": true,
           "gridcolor": "white",
           "linecolor": "white",
           "ticks": "",
           "title": {
            "standoff": 15
           },
           "zerolinecolor": "white",
           "zerolinewidth": 2
          },
          "yaxis": {
           "automargin": true,
           "gridcolor": "white",
           "linecolor": "white",
           "ticks": "",
           "title": {
            "standoff": 15
           },
           "zerolinecolor": "white",
           "zerolinewidth": 2
          }
         }
        },
        "width": 700
       }
      },
      "text/html": [
       "<div>                            <div id=\"2a84ac34-4dd1-4845-8edf-6da7dd3e9f6b\" class=\"plotly-graph-div\" style=\"height:700px; width:700px;\"></div>            <script type=\"text/javascript\">                require([\"plotly\"], function(Plotly) {                    window.PLOTLYENV=window.PLOTLYENV || {};                                    if (document.getElementById(\"2a84ac34-4dd1-4845-8edf-6da7dd3e9f6b\")) {                    Plotly.newPlot(                        \"2a84ac34-4dd1-4845-8edf-6da7dd3e9f6b\",                        [{\"domain\":{\"x\":[0.0,1.0],\"y\":[0.0,1.0]},\"hovertemplate\":\"index=%{label}<br>value=%{value}<extra></extra>\",\"labels\":[\"Christopher Nolan\",\"Peter Jackson\",\"Alfred Hitchcock\",\"Robert Zemeckis\",\"Steven Spielberg\",\"Martin Scorsese\",\"Sergio Leone\",\"David Fincher\",\"Francis Ford Coppola\",\"Frank Darabont\",\"Olivier Nakache\",\"Sidney Lumet\",\"Giuseppe Tornatore\",\"Bryan Singer\",\"Fernando Meirelles\",\"Roberto Benigni\",\"George Lucas\",\"Tony Kaye\",\"Michael Curtiz\",\"James Cameron\",\"Roger Allers\",\"Milos Forman\",\"Damien Chazelle\",\"Lana Wachowski\",\"Ridley Scott\",\"Jonathan Demme\",\"Irvin Kershner\",\"Luc Besson\",\"Roman Polanski\",\"Hayao Miyazaki\",\"Bong Joon Ho\",\"Quentin Tarantino\",\"Akira Kurosawa\"],\"legendgroup\":\"\",\"marker\":{\"line\":{\"color\":\"white\",\"width\":2}},\"name\":\"\",\"showlegend\":true,\"type\":\"pie\",\"values\":[20,15,10,10,10,10,10,10,10,10,5,5,5,5,5,5,5,5,5,5,5,5,5,5,5,5,5,5,5,5,5,5,5]}],                        {\"height\":700,\"legend\":{\"tracegroupgap\":0},\"margin\":{\"t\":60},\"piecolorway\":[\"rgb(103,0,31)\",\"rgb(178,24,43)\",\"rgb(214,96,77)\",\"rgb(244,165,130)\",\"rgb(253,219,199)\",\"rgb(247,247,247)\",\"rgb(209,229,240)\",\"rgb(146,197,222)\",\"rgb(67,147,195)\",\"rgb(33,102,172)\",\"rgb(5,48,97)\"],\"template\":{\"data\":{\"bar\":[{\"error_x\":{\"color\":\"#2a3f5f\"},\"error_y\":{\"color\":\"#2a3f5f\"},\"marker\":{\"line\":{\"color\":\"#E5ECF6\",\"width\":0.5},\"pattern\":{\"fillmode\":\"overlay\",\"size\":10,\"solidity\":0.2}},\"type\":\"bar\"}],\"barpolar\":[{\"marker\":{\"line\":{\"color\":\"#E5ECF6\",\"width\":0.5},\"pattern\":{\"fillmode\":\"overlay\",\"size\":10,\"solidity\":0.2}},\"type\":\"barpolar\"}],\"carpet\":[{\"aaxis\":{\"endlinecolor\":\"#2a3f5f\",\"gridcolor\":\"white\",\"linecolor\":\"white\",\"minorgridcolor\":\"white\",\"startlinecolor\":\"#2a3f5f\"},\"baxis\":{\"endlinecolor\":\"#2a3f5f\",\"gridcolor\":\"white\",\"linecolor\":\"white\",\"minorgridcolor\":\"white\",\"startlinecolor\":\"#2a3f5f\"},\"type\":\"carpet\"}],\"choropleth\":[{\"colorbar\":{\"outlinewidth\":0,\"ticks\":\"\"},\"type\":\"choropleth\"}],\"contour\":[{\"colorbar\":{\"outlinewidth\":0,\"ticks\":\"\"},\"colorscale\":[[0.0,\"#0d0887\"],[0.1111111111111111,\"#46039f\"],[0.2222222222222222,\"#7201a8\"],[0.3333333333333333,\"#9c179e\"],[0.4444444444444444,\"#bd3786\"],[0.5555555555555556,\"#d8576b\"],[0.6666666666666666,\"#ed7953\"],[0.7777777777777778,\"#fb9f3a\"],[0.8888888888888888,\"#fdca26\"],[1.0,\"#f0f921\"]],\"type\":\"contour\"}],\"contourcarpet\":[{\"colorbar\":{\"outlinewidth\":0,\"ticks\":\"\"},\"type\":\"contourcarpet\"}],\"heatmap\":[{\"colorbar\":{\"outlinewidth\":0,\"ticks\":\"\"},\"colorscale\":[[0.0,\"#0d0887\"],[0.1111111111111111,\"#46039f\"],[0.2222222222222222,\"#7201a8\"],[0.3333333333333333,\"#9c179e\"],[0.4444444444444444,\"#bd3786\"],[0.5555555555555556,\"#d8576b\"],[0.6666666666666666,\"#ed7953\"],[0.7777777777777778,\"#fb9f3a\"],[0.8888888888888888,\"#fdca26\"],[1.0,\"#f0f921\"]],\"type\":\"heatmap\"}],\"heatmapgl\":[{\"colorbar\":{\"outlinewidth\":0,\"ticks\":\"\"},\"colorscale\":[[0.0,\"#0d0887\"],[0.1111111111111111,\"#46039f\"],[0.2222222222222222,\"#7201a8\"],[0.3333333333333333,\"#9c179e\"],[0.4444444444444444,\"#bd3786\"],[0.5555555555555556,\"#d8576b\"],[0.6666666666666666,\"#ed7953\"],[0.7777777777777778,\"#fb9f3a\"],[0.8888888888888888,\"#fdca26\"],[1.0,\"#f0f921\"]],\"type\":\"heatmapgl\"}],\"histogram\":[{\"marker\":{\"pattern\":{\"fillmode\":\"overlay\",\"size\":10,\"solidity\":0.2}},\"type\":\"histogram\"}],\"histogram2d\":[{\"colorbar\":{\"outlinewidth\":0,\"ticks\":\"\"},\"colorscale\":[[0.0,\"#0d0887\"],[0.1111111111111111,\"#46039f\"],[0.2222222222222222,\"#7201a8\"],[0.3333333333333333,\"#9c179e\"],[0.4444444444444444,\"#bd3786\"],[0.5555555555555556,\"#d8576b\"],[0.6666666666666666,\"#ed7953\"],[0.7777777777777778,\"#fb9f3a\"],[0.8888888888888888,\"#fdca26\"],[1.0,\"#f0f921\"]],\"type\":\"histogram2d\"}],\"histogram2dcontour\":[{\"colorbar\":{\"outlinewidth\":0,\"ticks\":\"\"},\"colorscale\":[[0.0,\"#0d0887\"],[0.1111111111111111,\"#46039f\"],[0.2222222222222222,\"#7201a8\"],[0.3333333333333333,\"#9c179e\"],[0.4444444444444444,\"#bd3786\"],[0.5555555555555556,\"#d8576b\"],[0.6666666666666666,\"#ed7953\"],[0.7777777777777778,\"#fb9f3a\"],[0.8888888888888888,\"#fdca26\"],[1.0,\"#f0f921\"]],\"type\":\"histogram2dcontour\"}],\"mesh3d\":[{\"colorbar\":{\"outlinewidth\":0,\"ticks\":\"\"},\"type\":\"mesh3d\"}],\"parcoords\":[{\"line\":{\"colorbar\":{\"outlinewidth\":0,\"ticks\":\"\"}},\"type\":\"parcoords\"}],\"pie\":[{\"automargin\":true,\"type\":\"pie\"}],\"scatter\":[{\"marker\":{\"colorbar\":{\"outlinewidth\":0,\"ticks\":\"\"}},\"type\":\"scatter\"}],\"scatter3d\":[{\"line\":{\"colorbar\":{\"outlinewidth\":0,\"ticks\":\"\"}},\"marker\":{\"colorbar\":{\"outlinewidth\":0,\"ticks\":\"\"}},\"type\":\"scatter3d\"}],\"scattercarpet\":[{\"marker\":{\"colorbar\":{\"outlinewidth\":0,\"ticks\":\"\"}},\"type\":\"scattercarpet\"}],\"scattergeo\":[{\"marker\":{\"colorbar\":{\"outlinewidth\":0,\"ticks\":\"\"}},\"type\":\"scattergeo\"}],\"scattergl\":[{\"marker\":{\"colorbar\":{\"outlinewidth\":0,\"ticks\":\"\"}},\"type\":\"scattergl\"}],\"scattermapbox\":[{\"marker\":{\"colorbar\":{\"outlinewidth\":0,\"ticks\":\"\"}},\"type\":\"scattermapbox\"}],\"scatterpolar\":[{\"marker\":{\"colorbar\":{\"outlinewidth\":0,\"ticks\":\"\"}},\"type\":\"scatterpolar\"}],\"scatterpolargl\":[{\"marker\":{\"colorbar\":{\"outlinewidth\":0,\"ticks\":\"\"}},\"type\":\"scatterpolargl\"}],\"scatterternary\":[{\"marker\":{\"colorbar\":{\"outlinewidth\":0,\"ticks\":\"\"}},\"type\":\"scatterternary\"}],\"surface\":[{\"colorbar\":{\"outlinewidth\":0,\"ticks\":\"\"},\"colorscale\":[[0.0,\"#0d0887\"],[0.1111111111111111,\"#46039f\"],[0.2222222222222222,\"#7201a8\"],[0.3333333333333333,\"#9c179e\"],[0.4444444444444444,\"#bd3786\"],[0.5555555555555556,\"#d8576b\"],[0.6666666666666666,\"#ed7953\"],[0.7777777777777778,\"#fb9f3a\"],[0.8888888888888888,\"#fdca26\"],[1.0,\"#f0f921\"]],\"type\":\"surface\"}],\"table\":[{\"cells\":{\"fill\":{\"color\":\"#EBF0F8\"},\"line\":{\"color\":\"white\"}},\"header\":{\"fill\":{\"color\":\"#C8D4E3\"},\"line\":{\"color\":\"white\"}},\"type\":\"table\"}]},\"layout\":{\"annotationdefaults\":{\"arrowcolor\":\"#2a3f5f\",\"arrowhead\":0,\"arrowwidth\":1},\"autotypenumbers\":\"strict\",\"coloraxis\":{\"colorbar\":{\"outlinewidth\":0,\"ticks\":\"\"}},\"colorscale\":{\"diverging\":[[0,\"#8e0152\"],[0.1,\"#c51b7d\"],[0.2,\"#de77ae\"],[0.3,\"#f1b6da\"],[0.4,\"#fde0ef\"],[0.5,\"#f7f7f7\"],[0.6,\"#e6f5d0\"],[0.7,\"#b8e186\"],[0.8,\"#7fbc41\"],[0.9,\"#4d9221\"],[1,\"#276419\"]],\"sequential\":[[0.0,\"#0d0887\"],[0.1111111111111111,\"#46039f\"],[0.2222222222222222,\"#7201a8\"],[0.3333333333333333,\"#9c179e\"],[0.4444444444444444,\"#bd3786\"],[0.5555555555555556,\"#d8576b\"],[0.6666666666666666,\"#ed7953\"],[0.7777777777777778,\"#fb9f3a\"],[0.8888888888888888,\"#fdca26\"],[1.0,\"#f0f921\"]],\"sequentialminus\":[[0.0,\"#0d0887\"],[0.1111111111111111,\"#46039f\"],[0.2222222222222222,\"#7201a8\"],[0.3333333333333333,\"#9c179e\"],[0.4444444444444444,\"#bd3786\"],[0.5555555555555556,\"#d8576b\"],[0.6666666666666666,\"#ed7953\"],[0.7777777777777778,\"#fb9f3a\"],[0.8888888888888888,\"#fdca26\"],[1.0,\"#f0f921\"]]},\"colorway\":[\"#636efa\",\"#EF553B\",\"#00cc96\",\"#ab63fa\",\"#FFA15A\",\"#19d3f3\",\"#FF6692\",\"#B6E880\",\"#FF97FF\",\"#FECB52\"],\"font\":{\"color\":\"#2a3f5f\"},\"geo\":{\"bgcolor\":\"white\",\"lakecolor\":\"white\",\"landcolor\":\"#E5ECF6\",\"showlakes\":true,\"showland\":true,\"subunitcolor\":\"white\"},\"hoverlabel\":{\"align\":\"left\"},\"hovermode\":\"closest\",\"mapbox\":{\"style\":\"light\"},\"paper_bgcolor\":\"white\",\"plot_bgcolor\":\"#E5ECF6\",\"polar\":{\"angularaxis\":{\"gridcolor\":\"white\",\"linecolor\":\"white\",\"ticks\":\"\"},\"bgcolor\":\"#E5ECF6\",\"radialaxis\":{\"gridcolor\":\"white\",\"linecolor\":\"white\",\"ticks\":\"\"}},\"scene\":{\"xaxis\":{\"backgroundcolor\":\"#E5ECF6\",\"gridcolor\":\"white\",\"gridwidth\":2,\"linecolor\":\"white\",\"showbackground\":true,\"ticks\":\"\",\"zerolinecolor\":\"white\"},\"yaxis\":{\"backgroundcolor\":\"#E5ECF6\",\"gridcolor\":\"white\",\"gridwidth\":2,\"linecolor\":\"white\",\"showbackground\":true,\"ticks\":\"\",\"zerolinecolor\":\"white\"},\"zaxis\":{\"backgroundcolor\":\"#E5ECF6\",\"gridcolor\":\"white\",\"gridwidth\":2,\"linecolor\":\"white\",\"showbackground\":true,\"ticks\":\"\",\"zerolinecolor\":\"white\"}},\"shapedefaults\":{\"line\":{\"color\":\"#2a3f5f\"}},\"ternary\":{\"aaxis\":{\"gridcolor\":\"white\",\"linecolor\":\"white\",\"ticks\":\"\"},\"baxis\":{\"gridcolor\":\"white\",\"linecolor\":\"white\",\"ticks\":\"\"},\"bgcolor\":\"#E5ECF6\",\"caxis\":{\"gridcolor\":\"white\",\"linecolor\":\"white\",\"ticks\":\"\"}},\"title\":{\"x\":0.05},\"xaxis\":{\"automargin\":true,\"gridcolor\":\"white\",\"linecolor\":\"white\",\"ticks\":\"\",\"title\":{\"standoff\":15},\"zerolinecolor\":\"white\",\"zerolinewidth\":2},\"yaxis\":{\"automargin\":true,\"gridcolor\":\"white\",\"linecolor\":\"white\",\"ticks\":\"\",\"title\":{\"standoff\":15},\"zerolinecolor\":\"white\",\"zerolinewidth\":2}}},\"width\":700},                        {\"responsive\": true}                    ).then(function(){\n",
       "                            \n",
       "var gd = document.getElementById('2a84ac34-4dd1-4845-8edf-6da7dd3e9f6b');\n",
       "var x = new MutationObserver(function (mutations, observer) {{\n",
       "        var display = window.getComputedStyle(gd).display;\n",
       "        if (!display || display === 'none') {{\n",
       "            console.log([gd, 'removed!']);\n",
       "            Plotly.purge(gd);\n",
       "            observer.disconnect();\n",
       "        }}\n",
       "}});\n",
       "\n",
       "// Listen for the removal of the full notebook cells\n",
       "var notebookContainer = gd.closest('#notebook-container');\n",
       "if (notebookContainer) {{\n",
       "    x.observe(notebookContainer, {childList: true});\n",
       "}}\n",
       "\n",
       "// Listen for the clearing of the current output cell\n",
       "var outputEl = gd.closest('.output');\n",
       "if (outputEl) {{\n",
       "    x.observe(outputEl, {childList: true});\n",
       "}}\n",
       "\n",
       "                        })                };                });            </script>        </div>"
      ]
     },
     "metadata": {},
     "output_type": "display_data"
    }
   ],
   "source": [
    "import plotly.express as px\n",
    "director = df.Directeur.value_counts()\n",
    "\n",
    "fig = px.pie(director, \n",
    "             values = director.values, \n",
    "             names = director.index,\n",
    "             color_discrete_sequence = px.colors.sequential.RdBu,\n",
    "             width = 700, height = 700)\n",
    "fig.update_traces(marker = dict(line = dict(color = 'white', width = 2)))\n",
    "fig.show()"
   ]
  },
  {
   "cell_type": "markdown",
   "id": "a5e3d299",
   "metadata": {},
   "source": [
    "🎬 Genre"
   ]
  },
  {
   "cell_type": "code",
   "execution_count": 69,
   "id": "69a70587",
   "metadata": {},
   "outputs": [
    {
     "name": "stderr",
     "output_type": "stream",
     "text": [
      "C:\\Users\\zaome\\anaconda3\\lib\\site-packages\\seaborn\\_decorators.py:36: FutureWarning:\n",
      "\n",
      "Pass the following variables as keyword args: x, y. From version 0.12, the only valid positional argument will be `data`, and passing other arguments without an explicit keyword will result in an error or misinterpretation.\n",
      "\n"
     ]
    },
    {
     "data": {
      "image/png": "[encoded data removed]",
      "text/plain": [
       "<Figure size 1440x720 with 1 Axes>"
      ]
     },
     "metadata": {
      "needs_background": "light"
     },
     "output_type": "display_data"
    }
   ],
   "source": [
    "from collections import Counter\n",
    "genre = []\n",
    "for x in df['Genre']:\n",
    "    for y in x.split(','):\n",
    "        genre.append(y.strip().lower())\n",
    "\n",
    "count = Counter(genre)\n",
    "count = count.most_common()[:18]\n",
    "\n",
    "x,y = map(list,zip(*count)) #?\n",
    "\n",
    "fig,axs = plt.subplots(figsize=(20,10))\n",
    "g = sns.barplot(y,x)\n",
    "g.set_ylabel(\"Genres\", weight = \"bold\")\n",
    "plt.show()"
   ]
  },
  {
   "cell_type": "code",
   "execution_count": 70,
   "id": "27d6ed8f",
   "metadata": {},
   "outputs": [
    {
     "data": {
      "text/plain": [
       "Action                 60\n",
       "Crime                  50\n",
       "Drama                  30\n",
       "Biography              20\n",
       "Drama                  20\n",
       "Animation              10\n",
       "Comedy                 10\n",
       "Western                10\n",
       "Adventure              10\n",
       "Mystery                 5\n",
       "Horror                  5\n",
       "Name: genre, dtype: int64"
      ]
     },
     "execution_count": 70,
     "metadata": {},
     "output_type": "execute_result"
    }
   ],
   "source": [
    "df['genre'] = df['Genre'].apply(lambda text: text.split(',')[0])\n",
    "df.drop(columns='Genre', inplace=True)\n",
    "df['genre'].value_counts()"
   ]
  },
  {
   "cell_type": "code",
   "execution_count": 78,
   "id": "5d3aad38",
   "metadata": {},
   "outputs": [
    {
     "data": {
      "image/png": "[encoded data removed]",
      "text/plain": [
       "<Figure size 2160x360 with 1 Axes>"
      ]
     },
     "metadata": {
      "needs_background": "light"
     },
     "output_type": "display_data"
    }
   ],
   "source": [
    "fig,axs = plt.subplots(figsize=(30,5))\n",
    "g = sns.lineplot(x = df['Directeur'].value_counts()[:15].index,y = df['Année'].value_counts()[:15])\n",
    "g.set_title(\"Mostly Occurred Directors\", weight = \"bold\")\n",
    "g.set_xlabel(\"Directors\", weight = \"bold\")\n",
    "plt.show()"
   ]
  },
  {
   "cell_type": "markdown",
   "id": "47d33cde",
   "metadata": {},
   "source": [
    "🎬 Années"
   ]
  },
  {
   "cell_type": "code",
   "execution_count": 72,
   "id": "eff51f93",
   "metadata": {},
   "outputs": [
    {
     "data": {
      "application/vnd.plotly.v1+json": {
       "config": {
        "plotlyServerURL": "https://plot.ly"
       },
       "data": [
        {
         "alignmentgroup": "True",
         "bingroup": "x",
         "hovertemplate": "Année=%{x}<br>count=%{y}<extra></extra>",
         "legendgroup": "",
         "marker": {
          "color": "#636efa",
          "pattern": {
           "shape": ""
          }
         },
         "name": "",
         "offsetgroup": "",
         "orientation": "v",
         "showlegend": false,
         "type": "histogram",
         "x": [
          1942,
          1942,
          1942,
          1942,
          1942,
          1954,
          1954,
          1954,
          1954,
          1954,
          1954,
          1954,
          1954,
          1954,
          1954,
          1957,
          1957,
          1957,
          1957,
          1957,
          1960,
          1960,
          1960,
          1960,
          1960,
          1966,
          1966,
          1966,
          1966,
          1966,
          1968,
          1968,
          1968,
          1968,
          1968,
          1972,
          1972,
          1972,
          1972,
          1972,
          1974,
          1974,
          1974,
          1974,
          1974,
          1975,
          1975,
          1975,
          1975,
          1975,
          1977,
          1977,
          1977,
          1977,
          1977,
          1980,
          1980,
          1980,
          1980,
          1980,
          1985,
          1985,
          1985,
          1985,
          1985,
          1988,
          1988,
          1988,
          1988,
          1988,
          1990,
          1990,
          1990,
          1990,
          1990,
          1991,
          1991,
          1991,
          1991,
          1991,
          1991,
          1991,
          1991,
          1991,
          1991,
          1993,
          1993,
          1993,
          1993,
          1993,
          1994,
          1994,
          1994,
          1994,
          1994,
          1994,
          1994,
          1994,
          1994,
          1994,
          1994,
          1994,
          1994,
          1994,
          1994,
          1994,
          1994,
          1994,
          1994,
          1994,
          1994,
          1994,
          1994,
          1994,
          1994,
          1995,
          1995,
          1995,
          1995,
          1995,
          1995,
          1995,
          1995,
          1995,
          1995,
          1997,
          1997,
          1997,
          1997,
          1997,
          1998,
          1998,
          1998,
          1998,
          1998,
          1998,
          1998,
          1998,
          1998,
          1998,
          1999,
          1999,
          1999,
          1999,
          1999,
          1999,
          1999,
          1999,
          1999,
          1999,
          1999,
          1999,
          1999,
          1999,
          1999,
          2000,
          2000,
          2000,
          2000,
          2000,
          2001,
          2001,
          2001,
          2001,
          2001,
          2001,
          2001,
          2001,
          2001,
          2001,
          2002,
          2002,
          2002,
          2002,
          2002,
          2002,
          2002,
          2002,
          2002,
          2002,
          2002,
          2002,
          2002,
          2002,
          2002,
          2003,
          2003,
          2003,
          2003,
          2003,
          2006,
          2006,
          2006,
          2006,
          2006,
          2006,
          2006,
          2006,
          2006,
          2006,
          2008,
          2008,
          2008,
          2008,
          2008,
          2010,
          2010,
          2010,
          2010,
          2010,
          2011,
          2011,
          2011,
          2011,
          2011,
          2014,
          2014,
          2014,
          2014,
          2014,
          2014,
          2014,
          2014,
          2014,
          2014,
          2019,
          2019,
          2019,
          2019,
          2019
         ],
         "xaxis": "x",
         "yaxis": "y"
        }
       ],
       "layout": {
        "barmode": "relative",
        "legend": {
         "tracegroupgap": 0
        },
        "margin": {
         "t": 60
        },
        "template": {
         "data": {
          "bar": [
           {
            "error_x": {
             "color": "#2a3f5f"
            },
            "error_y": {
             "color": "#2a3f5f"
            },
            "marker": {
             "line": {
              "color": "#E5ECF6",
              "width": 0.5
             },
             "pattern": {
              "fillmode": "overlay",
              "size": 10,
              "solidity": 0.2
             }
            },
            "type": "bar"
           }
          ],
          "barpolar": [
           {
            "marker": {
             "line": {
              "color": "#E5ECF6",
              "width": 0.5
             },
             "pattern": {
              "fillmode": "overlay",
              "size": 10,
              "solidity": 0.2
             }
            },
            "type": "barpolar"
           }
          ],
          "carpet": [
           {
            "aaxis": {
             "endlinecolor": "#2a3f5f",
             "gridcolor": "white",
             "linecolor": "white",
             "minorgridcolor": "white",
             "startlinecolor": "#2a3f5f"
            },
            "baxis": {
             "endlinecolor": "#2a3f5f",
             "gridcolor": "white",
             "linecolor": "white",
             "minorgridcolor": "white",
             "startlinecolor": "#2a3f5f"
            },
            "type": "carpet"
           }
          ],
          "choropleth": [
           {
            "colorbar": {
             "outlinewidth": 0,
             "ticks": ""
            },
            "type": "choropleth"
           }
          ],
          "contour": [
           {
            "colorbar": {
             "outlinewidth": 0,
             "ticks": ""
            },
            "colorscale": [
             [
              0,
              "#0d0887"
             ],
             [
              0.1111111111111111,
              "#46039f"
             ],
             [
              0.2222222222222222,
              "#7201a8"
             ],
             [
              0.3333333333333333,
              "#9c179e"
             ],
             [
              0.4444444444444444,
              "#bd3786"
             ],
             [
              0.5555555555555556,
              "#d8576b"
             ],
             [
              0.6666666666666666,
              "#ed7953"
             ],
             [
              0.7777777777777778,
              "#fb9f3a"
             ],
             [
              0.8888888888888888,
              "#fdca26"
             ],
             [
              1,
              "#f0f921"
             ]
            ],
            "type": "contour"
           }
          ],
          "contourcarpet": [
           {
            "colorbar": {
             "outlinewidth": 0,
             "ticks": ""
            },
            "type": "contourcarpet"
           }
          ],
          "heatmap": [
           {
            "colorbar": {
             "outlinewidth": 0,
             "ticks": ""
            },
            "colorscale": [
             [
              0,
              "#0d0887"
             ],
             [
              0.1111111111111111,
              "#46039f"
             ],
             [
              0.2222222222222222,
              "#7201a8"
             ],
             [
              0.3333333333333333,
              "#9c179e"
             ],
             [
              0.4444444444444444,
              "#bd3786"
             ],
             [
              0.5555555555555556,
              "#d8576b"
             ],
             [
              0.6666666666666666,
              "#ed7953"
             ],
             [
              0.7777777777777778,
              "#fb9f3a"
             ],
             [
              0.8888888888888888,
              "#fdca26"
             ],
             [
              1,
              "#f0f921"
             ]
            ],
            "type": "heatmap"
           }
          ],
          "heatmapgl": [
           {
            "colorbar": {
             "outlinewidth": 0,
             "ticks": ""
            },
            "colorscale": [
             [
              0,
              "#0d0887"
             ],
             [
              0.1111111111111111,
              "#46039f"
             ],
             [
              0.2222222222222222,
              "#7201a8"
             ],
             [
              0.3333333333333333,
              "#9c179e"
             ],
             [
              0.4444444444444444,
              "#bd3786"
             ],
             [
              0.5555555555555556,
              "#d8576b"
             ],
             [
              0.6666666666666666,
              "#ed7953"
             ],
             [
              0.7777777777777778,
              "#fb9f3a"
             ],
             [
              0.8888888888888888,
              "#fdca26"
             ],
             [
              1,
              "#f0f921"
             ]
            ],
            "type": "heatmapgl"
           }
          ],
          "histogram": [
           {
            "marker": {
             "pattern": {
              "fillmode": "overlay",
              "size": 10,
              "solidity": 0.2
             }
            },
            "type": "histogram"
           }
          ],
          "histogram2d": [
           {
            "colorbar": {
             "outlinewidth": 0,
             "ticks": ""
            },
            "colorscale": [
             [
              0,
              "#0d0887"
             ],
             [
              0.1111111111111111,
              "#46039f"
             ],
             [
              0.2222222222222222,
              "#7201a8"
             ],
             [
              0.3333333333333333,
              "#9c179e"
             ],
             [
              0.4444444444444444,
              "#bd3786"
             ],
             [
              0.5555555555555556,
              "#d8576b"
             ],
             [
              0.6666666666666666,
              "#ed7953"
             ],
             [
              0.7777777777777778,
              "#fb9f3a"
             ],
             [
              0.8888888888888888,
              "#fdca26"
             ],
             [
              1,
              "#f0f921"
             ]
            ],
            "type": "histogram2d"
           }
          ],
          "histogram2dcontour": [
           {
            "colorbar": {
             "outlinewidth": 0,
             "ticks": ""
            },
            "colorscale": [
             [
              0,
              "#0d0887"
             ],
             [
              0.1111111111111111,
              "#46039f"
             ],
             [
              0.2222222222222222,
              "#7201a8"
             ],
             [
              0.3333333333333333,
              "#9c179e"
             ],
             [
              0.4444444444444444,
              "#bd3786"
             ],
             [
              0.5555555555555556,
              "#d8576b"
             ],
             [
              0.6666666666666666,
              "#ed7953"
             ],
             [
              0.7777777777777778,
              "#fb9f3a"
             ],
             [
              0.8888888888888888,
              "#fdca26"
             ],
             [
              1,
              "#f0f921"
             ]
            ],
            "type": "histogram2dcontour"
           }
          ],
          "mesh3d": [
           {
            "colorbar": {
             "outlinewidth": 0,
             "ticks": ""
            },
            "type": "mesh3d"
           }
          ],
          "parcoords": [
           {
            "line": {
             "colorbar": {
              "outlinewidth": 0,
              "ticks": ""
             }
            },
            "type": "parcoords"
           }
          ],
          "pie": [
           {
            "automargin": true,
            "type": "pie"
           }
          ],
          "scatter": [
           {
            "marker": {
             "colorbar": {
              "outlinewidth": 0,
              "ticks": ""
             }
            },
            "type": "scatter"
           }
          ],
          "scatter3d": [
           {
            "line": {
             "colorbar": {
              "outlinewidth": 0,
              "ticks": ""
             }
            },
            "marker": {
             "colorbar": {
              "outlinewidth": 0,
              "ticks": ""
             }
            },
            "type": "scatter3d"
           }
          ],
          "scattercarpet": [
           {
            "marker": {
             "colorbar": {
              "outlinewidth": 0,
              "ticks": ""
             }
            },
            "type": "scattercarpet"
           }
          ],
          "scattergeo": [
           {
            "marker": {
             "colorbar": {
              "outlinewidth": 0,
              "ticks": ""
             }
            },
            "type": "scattergeo"
           }
          ],
          "scattergl": [
           {
            "marker": {
             "colorbar": {
              "outlinewidth": 0,
              "ticks": ""
             }
            },
            "type": "scattergl"
           }
          ],
          "scattermapbox": [
           {
            "marker": {
             "colorbar": {
              "outlinewidth": 0,
              "ticks": ""
             }
            },
            "type": "scattermapbox"
           }
          ],
          "scatterpolar": [
           {
            "marker": {
             "colorbar": {
              "outlinewidth": 0,
              "ticks": ""
             }
            },
            "type": "scatterpolar"
           }
          ],
          "scatterpolargl": [
           {
            "marker": {
             "colorbar": {
              "outlinewidth": 0,
              "ticks": ""
             }
            },
            "type": "scatterpolargl"
           }
          ],
          "scatterternary": [
           {
            "marker": {
             "colorbar": {
              "outlinewidth": 0,
              "ticks": ""
             }
            },
            "type": "scatterternary"
           }
          ],
          "surface": [
           {
            "colorbar": {
             "outlinewidth": 0,
             "ticks": ""
            },
            "colorscale": [
             [
              0,
              "#0d0887"
             ],
             [
              0.1111111111111111,
              "#46039f"
             ],
             [
              0.2222222222222222,
              "#7201a8"
             ],
             [
              0.3333333333333333,
              "#9c179e"
             ],
             [
              0.4444444444444444,
              "#bd3786"
             ],
             [
              0.5555555555555556,
              "#d8576b"
             ],
             [
              0.6666666666666666,
              "#ed7953"
             ],
             [
              0.7777777777777778,
              "#fb9f3a"
             ],
             [
              0.8888888888888888,
              "#fdca26"
             ],
             [
              1,
              "#f0f921"
             ]
            ],
            "type": "surface"
           }
          ],
          "table": [
           {
            "cells": {
             "fill": {
              "color": "#EBF0F8"
             },
             "line": {
              "color": "white"
             }
            },
            "header": {
             "fill": {
              "color": "#C8D4E3"
             },
             "line": {
              "color": "white"
             }
            },
            "type": "table"
           }
          ]
         },
         "layout": {
          "annotationdefaults": {
           "arrowcolor": "#2a3f5f",
           "arrowhead": 0,
           "arrowwidth": 1
          },
          "autotypenumbers": "strict",
          "coloraxis": {
           "colorbar": {
            "outlinewidth": 0,
            "ticks": ""
           }
          },
          "colorscale": {
           "diverging": [
            [
             0,
             "#8e0152"
            ],
            [
             0.1,
             "#c51b7d"
            ],
            [
             0.2,
             "#de77ae"
            ],
            [
             0.3,
             "#f1b6da"
            ],
            [
             0.4,
             "#fde0ef"
            ],
            [
             0.5,
             "#f7f7f7"
            ],
            [
             0.6,
             "#e6f5d0"
            ],
            [
             0.7,
             "#b8e186"
            ],
            [
             0.8,
             "#7fbc41"
            ],
            [
             0.9,
             "#4d9221"
            ],
            [
             1,
             "#276419"
            ]
           ],
           "sequential": [
            [
             0,
             "#0d0887"
            ],
            [
             0.1111111111111111,
             "#46039f"
            ],
            [
             0.2222222222222222,
             "#7201a8"
            ],
            [
             0.3333333333333333,
             "#9c179e"
            ],
            [
             0.4444444444444444,
             "#bd3786"
            ],
            [
             0.5555555555555556,
             "#d8576b"
            ],
            [
             0.6666666666666666,
             "#ed7953"
            ],
            [
             0.7777777777777778,
             "#fb9f3a"
            ],
            [
             0.8888888888888888,
             "#fdca26"
            ],
            [
             1,
             "#f0f921"
            ]
           ],
           "sequentialminus": [
            [
             0,
             "#0d0887"
            ],
            [
             0.1111111111111111,
             "#46039f"
            ],
            [
             0.2222222222222222,
             "#7201a8"
            ],
            [
             0.3333333333333333,
             "#9c179e"
            ],
            [
             0.4444444444444444,
             "#bd3786"
            ],
            [
             0.5555555555555556,
             "#d8576b"
            ],
            [
             0.6666666666666666,
             "#ed7953"
            ],
            [
             0.7777777777777778,
             "#fb9f3a"
            ],
            [
             0.8888888888888888,
             "#fdca26"
            ],
            [
             1,
             "#f0f921"
            ]
           ]
          },
          "colorway": [
           "#636efa",
           "#EF553B",
           "#00cc96",
           "#ab63fa",
           "#FFA15A",
           "#19d3f3",
           "#FF6692",
           "#B6E880",
           "#FF97FF",
           "#FECB52"
          ],
          "font": {
           "color": "#2a3f5f"
          },
          "geo": {
           "bgcolor": "white",
           "lakecolor": "white",
           "landcolor": "#E5ECF6",
           "showlakes": true,
           "showland": true,
           "subunitcolor": "white"
          },
          "hoverlabel": {
           "align": "left"
          },
          "hovermode": "closest",
          "mapbox": {
           "style": "light"
          },
          "paper_bgcolor": "white",
          "plot_bgcolor": "#E5ECF6",
          "polar": {
           "angularaxis": {
            "gridcolor": "white",
            "linecolor": "white",
            "ticks": ""
           },
           "bgcolor": "#E5ECF6",
           "radialaxis": {
            "gridcolor": "white",
            "linecolor": "white",
            "ticks": ""
           }
          },
          "scene": {
           "xaxis": {
            "backgroundcolor": "#E5ECF6",
            "gridcolor": "white",
            "gridwidth": 2,
            "linecolor": "white",
            "showbackground": true,
            "ticks": "",
            "zerolinecolor": "white"
           },
           "yaxis": {
            "backgroundcolor": "#E5ECF6",
            "gridcolor": "white",
            "gridwidth": 2,
            "linecolor": "white",
            "showbackground": true,
            "ticks": "",
            "zerolinecolor": "white"
           },
           "zaxis": {
            "backgroundcolor": "#E5ECF6",
            "gridcolor": "white",
            "gridwidth": 2,
            "linecolor": "white",
            "showbackground": true,
            "ticks": "",
            "zerolinecolor": "white"
           }
          },
          "shapedefaults": {
           "line": {
            "color": "#2a3f5f"
           }
          },
          "ternary": {
           "aaxis": {
            "gridcolor": "white",
            "linecolor": "white",
            "ticks": ""
           },
           "baxis": {
            "gridcolor": "white",
            "linecolor": "white",
            "ticks": ""
           },
           "bgcolor": "#E5ECF6",
           "caxis": {
            "gridcolor": "white",
            "linecolor": "white",
            "ticks": ""
           }
          },
          "title": {
           "x": 0.05
          },
          "xaxis": {
           "automargin": true,
           "gridcolor": "white",
           "linecolor": "white",
           "ticks": "",
           "title": {
            "standoff": 15
           },
           "zerolinecolor": "white",
           "zerolinewidth": 2
          },
          "yaxis": {
           "automargin": true,
           "gridcolor": "white",
           "linecolor": "white",
           "ticks": "",
           "title": {
            "standoff": 15
           },
           "zerolinecolor": "white",
           "zerolinewidth": 2
          }
         }
        },
        "xaxis": {
         "anchor": "y",
         "domain": [
          0,
          1
         ],
         "title": {
          "text": "Année"
         }
        },
        "yaxis": {
         "anchor": "x",
         "domain": [
          0,
          1
         ],
         "title": {
          "text": "count"
         }
        }
       }
      },
      "text/html": [
       "<div>                            <div id=\"da5983c3-d3af-4933-86fd-db9e6110c90b\" class=\"plotly-graph-div\" style=\"height:525px; width:100%;\"></div>            <script type=\"text/javascript\">                require([\"plotly\"], function(Plotly) {                    window.PLOTLYENV=window.PLOTLYENV || {};                                    if (document.getElementById(\"da5983c3-d3af-4933-86fd-db9e6110c90b\")) {                    Plotly.newPlot(                        \"da5983c3-d3af-4933-86fd-db9e6110c90b\",                        [{\"alignmentgroup\":\"True\",\"bingroup\":\"x\",\"hovertemplate\":\"Ann\\u00e9e=%{x}<br>count=%{y}<extra></extra>\",\"legendgroup\":\"\",\"marker\":{\"color\":\"#636efa\",\"pattern\":{\"shape\":\"\"}},\"name\":\"\",\"offsetgroup\":\"\",\"orientation\":\"v\",\"showlegend\":false,\"type\":\"histogram\",\"x\":[1942,1942,1942,1942,1942,1954,1954,1954,1954,1954,1954,1954,1954,1954,1954,1957,1957,1957,1957,1957,1960,1960,1960,1960,1960,1966,1966,1966,1966,1966,1968,1968,1968,1968,1968,1972,1972,1972,1972,1972,1974,1974,1974,1974,1974,1975,1975,1975,1975,1975,1977,1977,1977,1977,1977,1980,1980,1980,1980,1980,1985,1985,1985,1985,1985,1988,1988,1988,1988,1988,1990,1990,1990,1990,1990,1991,1991,1991,1991,1991,1991,1991,1991,1991,1991,1993,1993,1993,1993,1993,1994,1994,1994,1994,1994,1994,1994,1994,1994,1994,1994,1994,1994,1994,1994,1994,1994,1994,1994,1994,1994,1994,1994,1994,1994,1995,1995,1995,1995,1995,1995,1995,1995,1995,1995,1997,1997,1997,1997,1997,1998,1998,1998,1998,1998,1998,1998,1998,1998,1998,1999,1999,1999,1999,1999,1999,1999,1999,1999,1999,1999,1999,1999,1999,1999,2000,2000,2000,2000,2000,2001,2001,2001,2001,2001,2001,2001,2001,2001,2001,2002,2002,2002,2002,2002,2002,2002,2002,2002,2002,2002,2002,2002,2002,2002,2003,2003,2003,2003,2003,2006,2006,2006,2006,2006,2006,2006,2006,2006,2006,2008,2008,2008,2008,2008,2010,2010,2010,2010,2010,2011,2011,2011,2011,2011,2014,2014,2014,2014,2014,2014,2014,2014,2014,2014,2019,2019,2019,2019,2019],\"xaxis\":\"x\",\"yaxis\":\"y\"}],                        {\"barmode\":\"relative\",\"legend\":{\"tracegroupgap\":0},\"margin\":{\"t\":60},\"template\":{\"data\":{\"bar\":[{\"error_x\":{\"color\":\"#2a3f5f\"},\"error_y\":{\"color\":\"#2a3f5f\"},\"marker\":{\"line\":{\"color\":\"#E5ECF6\",\"width\":0.5},\"pattern\":{\"fillmode\":\"overlay\",\"size\":10,\"solidity\":0.2}},\"type\":\"bar\"}],\"barpolar\":[{\"marker\":{\"line\":{\"color\":\"#E5ECF6\",\"width\":0.5},\"pattern\":{\"fillmode\":\"overlay\",\"size\":10,\"solidity\":0.2}},\"type\":\"barpolar\"}],\"carpet\":[{\"aaxis\":{\"endlinecolor\":\"#2a3f5f\",\"gridcolor\":\"white\",\"linecolor\":\"white\",\"minorgridcolor\":\"white\",\"startlinecolor\":\"#2a3f5f\"},\"baxis\":{\"endlinecolor\":\"#2a3f5f\",\"gridcolor\":\"white\",\"linecolor\":\"white\",\"minorgridcolor\":\"white\",\"startlinecolor\":\"#2a3f5f\"},\"type\":\"carpet\"}],\"choropleth\":[{\"colorbar\":{\"outlinewidth\":0,\"ticks\":\"\"},\"type\":\"choropleth\"}],\"contour\":[{\"colorbar\":{\"outlinewidth\":0,\"ticks\":\"\"},\"colorscale\":[[0.0,\"#0d0887\"],[0.1111111111111111,\"#46039f\"],[0.2222222222222222,\"#7201a8\"],[0.3333333333333333,\"#9c179e\"],[0.4444444444444444,\"#bd3786\"],[0.5555555555555556,\"#d8576b\"],[0.6666666666666666,\"#ed7953\"],[0.7777777777777778,\"#fb9f3a\"],[0.8888888888888888,\"#fdca26\"],[1.0,\"#f0f921\"]],\"type\":\"contour\"}],\"contourcarpet\":[{\"colorbar\":{\"outlinewidth\":0,\"ticks\":\"\"},\"type\":\"contourcarpet\"}],\"heatmap\":[{\"colorbar\":{\"outlinewidth\":0,\"ticks\":\"\"},\"colorscale\":[[0.0,\"#0d0887\"],[0.1111111111111111,\"#46039f\"],[0.2222222222222222,\"#7201a8\"],[0.3333333333333333,\"#9c179e\"],[0.4444444444444444,\"#bd3786\"],[0.5555555555555556,\"#d8576b\"],[0.6666666666666666,\"#ed7953\"],[0.7777777777777778,\"#fb9f3a\"],[0.8888888888888888,\"#fdca26\"],[1.0,\"#f0f921\"]],\"type\":\"heatmap\"}],\"heatmapgl\":[{\"colorbar\":{\"outlinewidth\":0,\"ticks\":\"\"},\"colorscale\":[[0.0,\"#0d0887\"],[0.1111111111111111,\"#46039f\"],[0.2222222222222222,\"#7201a8\"],[0.3333333333333333,\"#9c179e\"],[0.4444444444444444,\"#bd3786\"],[0.5555555555555556,\"#d8576b\"],[0.6666666666666666,\"#ed7953\"],[0.7777777777777778,\"#fb9f3a\"],[0.8888888888888888,\"#fdca26\"],[1.0,\"#f0f921\"]],\"type\":\"heatmapgl\"}],\"histogram\":[{\"marker\":{\"pattern\":{\"fillmode\":\"overlay\",\"size\":10,\"solidity\":0.2}},\"type\":\"histogram\"}],\"histogram2d\":[{\"colorbar\":{\"outlinewidth\":0,\"ticks\":\"\"},\"colorscale\":[[0.0,\"#0d0887\"],[0.1111111111111111,\"#46039f\"],[0.2222222222222222,\"#7201a8\"],[0.3333333333333333,\"#9c179e\"],[0.4444444444444444,\"#bd3786\"],[0.5555555555555556,\"#d8576b\"],[0.6666666666666666,\"#ed7953\"],[0.7777777777777778,\"#fb9f3a\"],[0.8888888888888888,\"#fdca26\"],[1.0,\"#f0f921\"]],\"type\":\"histogram2d\"}],\"histogram2dcontour\":[{\"colorbar\":{\"outlinewidth\":0,\"ticks\":\"\"},\"colorscale\":[[0.0,\"#0d0887\"],[0.1111111111111111,\"#46039f\"],[0.2222222222222222,\"#7201a8\"],[0.3333333333333333,\"#9c179e\"],[0.4444444444444444,\"#bd3786\"],[0.5555555555555556,\"#d8576b\"],[0.6666666666666666,\"#ed7953\"],[0.7777777777777778,\"#fb9f3a\"],[0.8888888888888888,\"#fdca26\"],[1.0,\"#f0f921\"]],\"type\":\"histogram2dcontour\"}],\"mesh3d\":[{\"colorbar\":{\"outlinewidth\":0,\"ticks\":\"\"},\"type\":\"mesh3d\"}],\"parcoords\":[{\"line\":{\"colorbar\":{\"outlinewidth\":0,\"ticks\":\"\"}},\"type\":\"parcoords\"}],\"pie\":[{\"automargin\":true,\"type\":\"pie\"}],\"scatter\":[{\"marker\":{\"colorbar\":{\"outlinewidth\":0,\"ticks\":\"\"}},\"type\":\"scatter\"}],\"scatter3d\":[{\"line\":{\"colorbar\":{\"outlinewidth\":0,\"ticks\":\"\"}},\"marker\":{\"colorbar\":{\"outlinewidth\":0,\"ticks\":\"\"}},\"type\":\"scatter3d\"}],\"scattercarpet\":[{\"marker\":{\"colorbar\":{\"outlinewidth\":0,\"ticks\":\"\"}},\"type\":\"scattercarpet\"}],\"scattergeo\":[{\"marker\":{\"colorbar\":{\"outlinewidth\":0,\"ticks\":\"\"}},\"type\":\"scattergeo\"}],\"scattergl\":[{\"marker\":{\"colorbar\":{\"outlinewidth\":0,\"ticks\":\"\"}},\"type\":\"scattergl\"}],\"scattermapbox\":[{\"marker\":{\"colorbar\":{\"outlinewidth\":0,\"ticks\":\"\"}},\"type\":\"scattermapbox\"}],\"scatterpolar\":[{\"marker\":{\"colorbar\":{\"outlinewidth\":0,\"ticks\":\"\"}},\"type\":\"scatterpolar\"}],\"scatterpolargl\":[{\"marker\":{\"colorbar\":{\"outlinewidth\":0,\"ticks\":\"\"}},\"type\":\"scatterpolargl\"}],\"scatterternary\":[{\"marker\":{\"colorbar\":{\"outlinewidth\":0,\"ticks\":\"\"}},\"type\":\"scatterternary\"}],\"surface\":[{\"colorbar\":{\"outlinewidth\":0,\"ticks\":\"\"},\"colorscale\":[[0.0,\"#0d0887\"],[0.1111111111111111,\"#46039f\"],[0.2222222222222222,\"#7201a8\"],[0.3333333333333333,\"#9c179e\"],[0.4444444444444444,\"#bd3786\"],[0.5555555555555556,\"#d8576b\"],[0.6666666666666666,\"#ed7953\"],[0.7777777777777778,\"#fb9f3a\"],[0.8888888888888888,\"#fdca26\"],[1.0,\"#f0f921\"]],\"type\":\"surface\"}],\"table\":[{\"cells\":{\"fill\":{\"color\":\"#EBF0F8\"},\"line\":{\"color\":\"white\"}},\"header\":{\"fill\":{\"color\":\"#C8D4E3\"},\"line\":{\"color\":\"white\"}},\"type\":\"table\"}]},\"layout\":{\"annotationdefaults\":{\"arrowcolor\":\"#2a3f5f\",\"arrowhead\":0,\"arrowwidth\":1},\"autotypenumbers\":\"strict\",\"coloraxis\":{\"colorbar\":{\"outlinewidth\":0,\"ticks\":\"\"}},\"colorscale\":{\"diverging\":[[0,\"#8e0152\"],[0.1,\"#c51b7d\"],[0.2,\"#de77ae\"],[0.3,\"#f1b6da\"],[0.4,\"#fde0ef\"],[0.5,\"#f7f7f7\"],[0.6,\"#e6f5d0\"],[0.7,\"#b8e186\"],[0.8,\"#7fbc41\"],[0.9,\"#4d9221\"],[1,\"#276419\"]],\"sequential\":[[0.0,\"#0d0887\"],[0.1111111111111111,\"#46039f\"],[0.2222222222222222,\"#7201a8\"],[0.3333333333333333,\"#9c179e\"],[0.4444444444444444,\"#bd3786\"],[0.5555555555555556,\"#d8576b\"],[0.6666666666666666,\"#ed7953\"],[0.7777777777777778,\"#fb9f3a\"],[0.8888888888888888,\"#fdca26\"],[1.0,\"#f0f921\"]],\"sequentialminus\":[[0.0,\"#0d0887\"],[0.1111111111111111,\"#46039f\"],[0.2222222222222222,\"#7201a8\"],[0.3333333333333333,\"#9c179e\"],[0.4444444444444444,\"#bd3786\"],[0.5555555555555556,\"#d8576b\"],[0.6666666666666666,\"#ed7953\"],[0.7777777777777778,\"#fb9f3a\"],[0.8888888888888888,\"#fdca26\"],[1.0,\"#f0f921\"]]},\"colorway\":[\"#636efa\",\"#EF553B\",\"#00cc96\",\"#ab63fa\",\"#FFA15A\",\"#19d3f3\",\"#FF6692\",\"#B6E880\",\"#FF97FF\",\"#FECB52\"],\"font\":{\"color\":\"#2a3f5f\"},\"geo\":{\"bgcolor\":\"white\",\"lakecolor\":\"white\",\"landcolor\":\"#E5ECF6\",\"showlakes\":true,\"showland\":true,\"subunitcolor\":\"white\"},\"hoverlabel\":{\"align\":\"left\"},\"hovermode\":\"closest\",\"mapbox\":{\"style\":\"light\"},\"paper_bgcolor\":\"white\",\"plot_bgcolor\":\"#E5ECF6\",\"polar\":{\"angularaxis\":{\"gridcolor\":\"white\",\"linecolor\":\"white\",\"ticks\":\"\"},\"bgcolor\":\"#E5ECF6\",\"radialaxis\":{\"gridcolor\":\"white\",\"linecolor\":\"white\",\"ticks\":\"\"}},\"scene\":{\"xaxis\":{\"backgroundcolor\":\"#E5ECF6\",\"gridcolor\":\"white\",\"gridwidth\":2,\"linecolor\":\"white\",\"showbackground\":true,\"ticks\":\"\",\"zerolinecolor\":\"white\"},\"yaxis\":{\"backgroundcolor\":\"#E5ECF6\",\"gridcolor\":\"white\",\"gridwidth\":2,\"linecolor\":\"white\",\"showbackground\":true,\"ticks\":\"\",\"zerolinecolor\":\"white\"},\"zaxis\":{\"backgroundcolor\":\"#E5ECF6\",\"gridcolor\":\"white\",\"gridwidth\":2,\"linecolor\":\"white\",\"showbackground\":true,\"ticks\":\"\",\"zerolinecolor\":\"white\"}},\"shapedefaults\":{\"line\":{\"color\":\"#2a3f5f\"}},\"ternary\":{\"aaxis\":{\"gridcolor\":\"white\",\"linecolor\":\"white\",\"ticks\":\"\"},\"baxis\":{\"gridcolor\":\"white\",\"linecolor\":\"white\",\"ticks\":\"\"},\"bgcolor\":\"#E5ECF6\",\"caxis\":{\"gridcolor\":\"white\",\"linecolor\":\"white\",\"ticks\":\"\"}},\"title\":{\"x\":0.05},\"xaxis\":{\"automargin\":true,\"gridcolor\":\"white\",\"linecolor\":\"white\",\"ticks\":\"\",\"title\":{\"standoff\":15},\"zerolinecolor\":\"white\",\"zerolinewidth\":2},\"yaxis\":{\"automargin\":true,\"gridcolor\":\"white\",\"linecolor\":\"white\",\"ticks\":\"\",\"title\":{\"standoff\":15},\"zerolinecolor\":\"white\",\"zerolinewidth\":2}}},\"xaxis\":{\"anchor\":\"y\",\"domain\":[0.0,1.0],\"title\":{\"text\":\"Ann\\u00e9e\"}},\"yaxis\":{\"anchor\":\"x\",\"domain\":[0.0,1.0],\"title\":{\"text\":\"count\"}}},                        {\"responsive\": true}                    ).then(function(){\n",
       "                            \n",
       "var gd = document.getElementById('da5983c3-d3af-4933-86fd-db9e6110c90b');\n",
       "var x = new MutationObserver(function (mutations, observer) {{\n",
       "        var display = window.getComputedStyle(gd).display;\n",
       "        if (!display || display === 'none') {{\n",
       "            console.log([gd, 'removed!']);\n",
       "            Plotly.purge(gd);\n",
       "            observer.disconnect();\n",
       "        }}\n",
       "}});\n",
       "\n",
       "// Listen for the removal of the full notebook cells\n",
       "var notebookContainer = gd.closest('#notebook-container');\n",
       "if (notebookContainer) {{\n",
       "    x.observe(notebookContainer, {childList: true});\n",
       "}}\n",
       "\n",
       "// Listen for the clearing of the current output cell\n",
       "var outputEl = gd.closest('.output');\n",
       "if (outputEl) {{\n",
       "    x.observe(outputEl, {childList: true});\n",
       "}}\n",
       "\n",
       "                        })                };                });            </script>        </div>"
      ]
     },
     "metadata": {},
     "output_type": "display_data"
    }
   ],
   "source": [
    "fig = px.histogram(data_frame = df.sort_values(by='Année'), x='Année')\n",
    "fig.update_layout()"
   ]
  },
  {
   "cell_type": "code",
   "execution_count": 73,
   "id": "38671cf1",
   "metadata": {
    "scrolled": false
   },
   "outputs": [
    {
     "data": {
      "application/vnd.plotly.v1+json": {
       "config": {
        "plotlyServerURL": "https://plot.ly"
       },
       "data": [
        {
         "customdata": [
          [
           "The Shawshank Redemption"
          ],
          [
           "Fight Club"
          ],
          [
           "One Flew Over the Cuckoo's Nest"
          ],
          [
           "American History X"
          ],
          [
           "The Shawshank Redemption"
          ],
          [
           "Fight Club"
          ],
          [
           "One Flew Over the Cuckoo's Nest"
          ],
          [
           "American History X"
          ],
          [
           "The Shawshank Redemption"
          ],
          [
           "Fight Club"
          ],
          [
           "One Flew Over the Cuckoo's Nest"
          ],
          [
           "American History X"
          ],
          [
           "The Shawshank Redemption"
          ],
          [
           "Fight Club"
          ],
          [
           "One Flew Over the Cuckoo's Nest"
          ],
          [
           "American History X"
          ],
          [
           "The Shawshank Redemption"
          ],
          [
           "Fight Club"
          ],
          [
           "One Flew Over the Cuckoo's Nest"
          ],
          [
           "American History X"
          ]
         ],
         "hovertemplate": "genre=Drama            <br>Prix=%{x}<br>Votes=%{y}<br>Films=%{customdata[0]}<extra></extra>",
         "legendgroup": "Drama            ",
         "marker": {
          "color": "#636efa",
          "symbol": "circle"
         },
         "mode": "markers",
         "name": "Drama            ",
         "orientation": "v",
         "showlegend": true,
         "type": "scatter",
         "x": [
          28.34,
          37.03,
          112,
          6.72,
          28.34,
          37.03,
          112,
          6.72,
          28.34,
          37.03,
          112,
          6.72,
          28.34,
          37.03,
          112,
          6.72,
          28.34,
          37.03,
          112,
          6.72
         ],
         "xaxis": "x",
         "y": [
          2480727,
          1954752,
          958396,
          1071714,
          2480727,
          1954752,
          958396,
          1071714,
          2480727,
          1954752,
          958396,
          1071714,
          2480727,
          1954752,
          958396,
          1071714,
          2480727,
          1954752,
          958396,
          1071714
         ],
         "yaxis": "y"
        },
        {
         "customdata": [
          [
           "The Godfather"
          ],
          [
           "The Godfather: Part II"
          ],
          [
           "12 Angry Men"
          ],
          [
           "Pulp Fiction"
          ],
          [
           "City of God"
          ],
          [
           "The Green Mile"
          ],
          [
           "Se7en"
          ],
          [
           "The Silence of the Lambs"
          ],
          [
           "The Departed"
          ],
          [
           "The Usual Suspects"
          ],
          [
           "The Godfather"
          ],
          [
           "The Godfather: Part II"
          ],
          [
           "12 Angry Men"
          ],
          [
           "Pulp Fiction"
          ],
          [
           "City of God"
          ],
          [
           "The Green Mile"
          ],
          [
           "Se7en"
          ],
          [
           "The Silence of the Lambs"
          ],
          [
           "The Departed"
          ],
          [
           "The Usual Suspects"
          ],
          [
           "The Godfather"
          ],
          [
           "The Godfather: Part II"
          ],
          [
           "12 Angry Men"
          ],
          [
           "Pulp Fiction"
          ],
          [
           "City of God"
          ],
          [
           "The Green Mile"
          ],
          [
           "Se7en"
          ],
          [
           "The Silence of the Lambs"
          ],
          [
           "The Departed"
          ],
          [
           "The Usual Suspects"
          ],
          [
           "The Godfather"
          ],
          [
           "The Godfather: Part II"
          ],
          [
           "12 Angry Men"
          ],
          [
           "Pulp Fiction"
          ],
          [
           "City of God"
          ],
          [
           "The Green Mile"
          ],
          [
           "Se7en"
          ],
          [
           "The Silence of the Lambs"
          ],
          [
           "The Departed"
          ],
          [
           "The Usual Suspects"
          ],
          [
           "The Godfather"
          ],
          [
           "The Godfather: Part II"
          ],
          [
           "12 Angry Men"
          ],
          [
           "Pulp Fiction"
          ],
          [
           "City of God"
          ],
          [
           "The Green Mile"
          ],
          [
           "Se7en"
          ],
          [
           "The Silence of the Lambs"
          ],
          [
           "The Departed"
          ],
          [
           "The Usual Suspects"
          ]
         ],
         "hovertemplate": "genre=Crime<br>Prix=%{x}<br>Votes=%{y}<br>Films=%{customdata[0]}<extra></extra>",
         "legendgroup": "Crime",
         "marker": {
          "color": "#EF553B",
          "symbol": "circle"
         },
         "mode": "markers",
         "name": "Crime",
         "orientation": "v",
         "showlegend": true,
         "type": "scatter",
         "x": [
          134.97,
          57.3,
          4.36,
          107.93,
          7.56,
          136.8,
          100.13,
          130.74,
          132.38,
          23.34,
          134.97,
          57.3,
          4.36,
          107.93,
          7.56,
          136.8,
          100.13,
          130.74,
          132.38,
          23.34,
          134.97,
          57.3,
          4.36,
          107.93,
          7.56,
          136.8,
          100.13,
          130.74,
          132.38,
          23.34,
          134.97,
          57.3,
          4.36,
          107.93,
          7.56,
          136.8,
          100.13,
          130.74,
          132.38,
          23.34,
          134.97,
          57.3,
          4.36,
          107.93,
          7.56,
          136.8,
          100.13,
          130.74,
          132.38,
          23.34
         ],
         "xaxis": "x",
         "y": [
          1713388,
          1190161,
          734230,
          1920065,
          724865,
          1210823,
          1527203,
          1340386,
          1247602,
          1033563,
          1713388,
          1190161,
          734230,
          1920065,
          724865,
          1210823,
          1527203,
          1340386,
          1247602,
          1033563,
          1713388,
          1190161,
          734230,
          1920065,
          724865,
          1210823,
          1527203,
          1340386,
          1247602,
          1033563,
          1713388,
          1190161,
          734230,
          1920065,
          724865,
          1210823,
          1527203,
          1340386,
          1247602,
          1033563,
          1713388,
          1190161,
          734230,
          1920065,
          724865,
          1210823,
          1527203,
          1340386,
          1247602,
          1033563
         ],
         "yaxis": "y"
        },
        {
         "customdata": [
          [
           "The Dark Knight"
          ],
          [
           "The Lord of the Rings: The Return of the King"
          ],
          [
           "Inception"
          ],
          [
           "The Lord of the Rings: The Fellowship of the Ring"
          ],
          [
           "The Lord of the Rings: The Two Towers"
          ],
          [
           "The Matrix"
          ],
          [
           "Star Wars: Episode V - The Empire Strikes Back"
          ],
          [
           "Star Wars: Episode IV - A New Hope"
          ],
          [
           "Seven Samurai"
          ],
          [
           "Gladiator"
          ],
          [
           "Léon: The Professional"
          ],
          [
           "Terminator 2: Judgment Day"
          ],
          [
           "The Dark Knight"
          ],
          [
           "The Lord of the Rings: The Return of the King"
          ],
          [
           "Inception"
          ],
          [
           "The Lord of the Rings: The Fellowship of the Ring"
          ],
          [
           "The Lord of the Rings: The Two Towers"
          ],
          [
           "The Matrix"
          ],
          [
           "Star Wars: Episode V - The Empire Strikes Back"
          ],
          [
           "Star Wars: Episode IV - A New Hope"
          ],
          [
           "Seven Samurai"
          ],
          [
           "Gladiator"
          ],
          [
           "Léon: The Professional"
          ],
          [
           "Terminator 2: Judgment Day"
          ],
          [
           "The Dark Knight"
          ],
          [
           "The Lord of the Rings: The Return of the King"
          ],
          [
           "Inception"
          ],
          [
           "The Lord of the Rings: The Fellowship of the Ring"
          ],
          [
           "The Lord of the Rings: The Two Towers"
          ],
          [
           "The Matrix"
          ],
          [
           "Star Wars: Episode V - The Empire Strikes Back"
          ],
          [
           "Star Wars: Episode IV - A New Hope"
          ],
          [
           "Seven Samurai"
          ],
          [
           "Gladiator"
          ],
          [
           "Léon: The Professional"
          ],
          [
           "Terminator 2: Judgment Day"
          ],
          [
           "The Dark Knight"
          ],
          [
           "The Lord of the Rings: The Return of the King"
          ],
          [
           "Inception"
          ],
          [
           "The Lord of the Rings: The Fellowship of the Ring"
          ],
          [
           "The Lord of the Rings: The Two Towers"
          ],
          [
           "The Matrix"
          ],
          [
           "Star Wars: Episode V - The Empire Strikes Back"
          ],
          [
           "Star Wars: Episode IV - A New Hope"
          ],
          [
           "Seven Samurai"
          ],
          [
           "Gladiator"
          ],
          [
           "Léon: The Professional"
          ],
          [
           "Terminator 2: Judgment Day"
          ],
          [
           "The Dark Knight"
          ],
          [
           "The Lord of the Rings: The Return of the King"
          ],
          [
           "Inception"
          ],
          [
           "The Lord of the Rings: The Fellowship of the Ring"
          ],
          [
           "The Lord of the Rings: The Two Towers"
          ],
          [
           "The Matrix"
          ],
          [
           "Star Wars: Episode V - The Empire Strikes Back"
          ],
          [
           "Star Wars: Episode IV - A New Hope"
          ],
          [
           "Seven Samurai"
          ],
          [
           "Gladiator"
          ],
          [
           "Léon: The Professional"
          ],
          [
           "Terminator 2: Judgment Day"
          ]
         ],
         "hovertemplate": "genre=Action<br>Prix=%{x}<br>Votes=%{y}<br>Films=%{customdata[0]}<extra></extra>",
         "legendgroup": "Action",
         "marker": {
          "color": "#00cc96",
          "symbol": "circle"
         },
         "mode": "markers",
         "name": "Action",
         "orientation": "v",
         "showlegend": true,
         "type": "scatter",
         "x": [
          534.86,
          377.85,
          292.58,
          315.54,
          342.55,
          171.48,
          290.48,
          322.74,
          0.27,
          187.71,
          19.5,
          204.84,
          534.86,
          377.85,
          292.58,
          315.54,
          342.55,
          171.48,
          290.48,
          322.74,
          0.27,
          187.71,
          19.5,
          204.84,
          534.86,
          377.85,
          292.58,
          315.54,
          342.55,
          171.48,
          290.48,
          322.74,
          0.27,
          187.71,
          19.5,
          204.84,
          534.86,
          377.85,
          292.58,
          315.54,
          342.55,
          171.48,
          290.48,
          322.74,
          0.27,
          187.71,
          19.5,
          204.84,
          534.86,
          377.85,
          292.58,
          315.54,
          342.55,
          171.48,
          290.48,
          322.74,
          0.27,
          187.71,
          19.5,
          204.84
         ],
         "xaxis": "x",
         "y": [
          2435080,
          1718951,
          2185204,
          1740226,
          1554016,
          1772635,
          1211382,
          1283157,
          330526,
          1407509,
          1088535,
          1038625,
          2435080,
          1718951,
          2185204,
          1740226,
          1554016,
          1772635,
          1211382,
          1283157,
          330526,
          1407509,
          1088535,
          1038625,
          2435080,
          1718951,
          2185204,
          1740226,
          1554016,
          1772635,
          1211382,
          1283157,
          330526,
          1407509,
          1088535,
          1038625,
          2435080,
          1718951,
          2185204,
          1740226,
          1554016,
          1772635,
          1211382,
          1283157,
          330526,
          1407509,
          1088535,
          1038625,
          2435080,
          1718951,
          2185204,
          1740226,
          1554016,
          1772635,
          1211382,
          1283157,
          330526,
          1407509,
          1088535,
          1038625
         ],
         "yaxis": "y"
        },
        {
         "customdata": [
          [
           "Schindler's List"
          ],
          [
           "Goodfellas"
          ],
          [
           "The Intouchables"
          ],
          [
           "The Pianist"
          ],
          [
           "Schindler's List"
          ],
          [
           "Goodfellas"
          ],
          [
           "The Intouchables"
          ],
          [
           "The Pianist"
          ],
          [
           "Schindler's List"
          ],
          [
           "Goodfellas"
          ],
          [
           "The Intouchables"
          ],
          [
           "The Pianist"
          ],
          [
           "Schindler's List"
          ],
          [
           "Goodfellas"
          ],
          [
           "The Intouchables"
          ],
          [
           "The Pianist"
          ],
          [
           "Schindler's List"
          ],
          [
           "Goodfellas"
          ],
          [
           "The Intouchables"
          ],
          [
           "The Pianist"
          ]
         ],
         "hovertemplate": "genre=Biography<br>Prix=%{x}<br>Votes=%{y}<br>Films=%{customdata[0]}<extra></extra>",
         "legendgroup": "Biography",
         "marker": {
          "color": "#ab63fa",
          "symbol": "circle"
         },
         "mode": "markers",
         "name": "Biography",
         "orientation": "v",
         "showlegend": true,
         "type": "scatter",
         "x": [
          96.9,
          46.84,
          13.18,
          32.57,
          96.9,
          46.84,
          13.18,
          32.57,
          96.9,
          46.84,
          13.18,
          32.57,
          96.9,
          46.84,
          13.18,
          32.57,
          96.9,
          46.84,
          13.18,
          32.57
         ],
         "xaxis": "x",
         "y": [
          1273515,
          1076837,
          801782,
          775761,
          1273515,
          1076837,
          801782,
          775761,
          1273515,
          1076837,
          801782,
          775761,
          1273515,
          1076837,
          801782,
          775761,
          1273515,
          1076837,
          801782,
          775761
         ],
         "yaxis": "y"
        },
        {
         "customdata": [
          [
           "Forrest Gump"
          ],
          [
           "Saving Private Ryan"
          ],
          [
           "Whiplash"
          ],
          [
           "The Prestige"
          ],
          [
           "Cinema Paradiso"
          ],
          [
           "Casablanca"
          ],
          [
           "Forrest Gump"
          ],
          [
           "Saving Private Ryan"
          ],
          [
           "Whiplash"
          ],
          [
           "The Prestige"
          ],
          [
           "Cinema Paradiso"
          ],
          [
           "Casablanca"
          ],
          [
           "Forrest Gump"
          ],
          [
           "Saving Private Ryan"
          ],
          [
           "Whiplash"
          ],
          [
           "The Prestige"
          ],
          [
           "Cinema Paradiso"
          ],
          [
           "Casablanca"
          ],
          [
           "Forrest Gump"
          ],
          [
           "Saving Private Ryan"
          ],
          [
           "Whiplash"
          ],
          [
           "The Prestige"
          ],
          [
           "Cinema Paradiso"
          ],
          [
           "Casablanca"
          ],
          [
           "Forrest Gump"
          ],
          [
           "Saving Private Ryan"
          ],
          [
           "Whiplash"
          ],
          [
           "The Prestige"
          ],
          [
           "Cinema Paradiso"
          ],
          [
           "Casablanca"
          ]
         ],
         "hovertemplate": "genre=Drama<br>Prix=%{x}<br>Votes=%{y}<br>Films=%{customdata[0]}<extra></extra>",
         "legendgroup": "Drama",
         "marker": {
          "color": "#FFA15A",
          "symbol": "circle"
         },
         "mode": "markers",
         "name": "Drama",
         "orientation": "v",
         "showlegend": true,
         "type": "scatter",
         "x": [
          330.25,
          216.54,
          13.09,
          53.09,
          11.99,
          1.02,
          330.25,
          216.54,
          13.09,
          53.09,
          11.99,
          1.02,
          330.25,
          216.54,
          13.09,
          53.09,
          11.99,
          1.02,
          330.25,
          216.54,
          13.09,
          53.09,
          11.99,
          1.02,
          330.25,
          216.54,
          13.09,
          53.09,
          11.99,
          1.02
         ],
         "xaxis": "x",
         "y": [
          1918121,
          1299828,
          770009,
          1252211,
          246863,
          545364,
          1918121,
          1299828,
          770009,
          1252211,
          246863,
          545364,
          1918121,
          1299828,
          770009,
          1252211,
          246863,
          545364,
          1918121,
          1299828,
          770009,
          1252211,
          246863,
          545364,
          1918121,
          1299828,
          770009,
          1252211,
          246863,
          545364
         ],
         "yaxis": "y"
        },
        {
         "customdata": [
          [
           "The Good, the Bad and the Ugly"
          ],
          [
           "Once Upon a Time in the West"
          ],
          [
           "The Good, the Bad and the Ugly"
          ],
          [
           "Once Upon a Time in the West"
          ],
          [
           "The Good, the Bad and the Ugly"
          ],
          [
           "Once Upon a Time in the West"
          ],
          [
           "The Good, the Bad and the Ugly"
          ],
          [
           "Once Upon a Time in the West"
          ],
          [
           "The Good, the Bad and the Ugly"
          ],
          [
           "Once Upon a Time in the West"
          ]
         ],
         "hovertemplate": "genre=Western            <br>Prix=%{x}<br>Votes=%{y}<br>Films=%{customdata[0]}<extra></extra>",
         "legendgroup": "Western            ",
         "marker": {
          "color": "#19d3f3",
          "symbol": "circle"
         },
         "mode": "markers",
         "name": "Western            ",
         "orientation": "v",
         "showlegend": true,
         "type": "scatter",
         "x": [
          6.1,
          5.32,
          6.1,
          5.32,
          6.1,
          5.32,
          6.1,
          5.32,
          6.1,
          5.32
         ],
         "xaxis": "x",
         "y": [
          721512,
          315851,
          721512,
          315851,
          721512,
          315851,
          721512,
          315851,
          721512,
          315851
         ],
         "yaxis": "y"
        },
        {
         "customdata": [
          [
           "Parasite"
          ],
          [
           "Life Is Beautiful"
          ],
          [
           "Parasite"
          ],
          [
           "Life Is Beautiful"
          ],
          [
           "Parasite"
          ],
          [
           "Life Is Beautiful"
          ],
          [
           "Parasite"
          ],
          [
           "Life Is Beautiful"
          ],
          [
           "Parasite"
          ],
          [
           "Life Is Beautiful"
          ]
         ],
         "hovertemplate": "genre=Comedy<br>Prix=%{x}<br>Votes=%{y}<br>Films=%{customdata[0]}<extra></extra>",
         "legendgroup": "Comedy",
         "marker": {
          "color": "#FF6692",
          "symbol": "circle"
         },
         "mode": "markers",
         "name": "Comedy",
         "orientation": "v",
         "showlegend": true,
         "type": "scatter",
         "x": [
          53.37,
          57.6,
          53.37,
          57.6,
          53.37,
          57.6,
          53.37,
          57.6,
          53.37,
          57.6
         ],
         "xaxis": "x",
         "y": [
          676270,
          655757,
          676270,
          655757,
          676270,
          655757,
          676270,
          655757,
          676270,
          655757
         ],
         "yaxis": "y"
        },
        {
         "customdata": [
          [
           "Interstellar"
          ],
          [
           "Back to the Future"
          ],
          [
           "Interstellar"
          ],
          [
           "Back to the Future"
          ],
          [
           "Interstellar"
          ],
          [
           "Back to the Future"
          ],
          [
           "Interstellar"
          ],
          [
           "Back to the Future"
          ],
          [
           "Interstellar"
          ],
          [
           "Back to the Future"
          ]
         ],
         "hovertemplate": "genre=Adventure<br>Prix=%{x}<br>Votes=%{y}<br>Films=%{customdata[0]}<extra></extra>",
         "legendgroup": "Adventure",
         "marker": {
          "color": "#B6E880",
          "symbol": "circle"
         },
         "mode": "markers",
         "name": "Adventure",
         "orientation": "v",
         "showlegend": true,
         "type": "scatter",
         "x": [
          188.02,
          210.61,
          188.02,
          210.61,
          188.02,
          210.61,
          188.02,
          210.61,
          188.02,
          210.61
         ],
         "xaxis": "x",
         "y": [
          1631810,
          1119879,
          1631810,
          1119879,
          1631810,
          1119879,
          1631810,
          1119879,
          1631810,
          1119879
         ],
         "yaxis": "y"
        },
        {
         "customdata": [
          [
           "Spirited Away"
          ],
          [
           "The Lion King"
          ],
          [
           "Spirited Away"
          ],
          [
           "The Lion King"
          ],
          [
           "Spirited Away"
          ],
          [
           "The Lion King"
          ],
          [
           "Spirited Away"
          ],
          [
           "The Lion King"
          ],
          [
           "Spirited Away"
          ],
          [
           "The Lion King"
          ]
         ],
         "hovertemplate": "genre=Animation<br>Prix=%{x}<br>Votes=%{y}<br>Films=%{customdata[0]}<extra></extra>",
         "legendgroup": "Animation",
         "marker": {
          "color": "#FF97FF",
          "symbol": "circle"
         },
         "mode": "markers",
         "name": "Animation",
         "orientation": "v",
         "showlegend": true,
         "type": "scatter",
         "x": [
          10.06,
          422.78,
          10.06,
          422.78,
          10.06,
          422.78,
          10.06,
          422.78,
          10.06,
          422.78
         ],
         "xaxis": "x",
         "y": [
          699312,
          989092,
          699312,
          989092,
          699312,
          989092,
          699312,
          989092,
          699312,
          989092
         ],
         "yaxis": "y"
        },
        {
         "customdata": [
          [
           "Psycho"
          ],
          [
           "Psycho"
          ],
          [
           "Psycho"
          ],
          [
           "Psycho"
          ],
          [
           "Psycho"
          ]
         ],
         "hovertemplate": "genre=Horror<br>Prix=%{x}<br>Votes=%{y}<br>Films=%{customdata[0]}<extra></extra>",
         "legendgroup": "Horror",
         "marker": {
          "color": "#FECB52",
          "symbol": "circle"
         },
         "mode": "markers",
         "name": "Horror",
         "orientation": "v",
         "showlegend": true,
         "type": "scatter",
         "x": [
          32,
          32,
          32,
          32,
          32
         ],
         "xaxis": "x",
         "y": [
          634922,
          634922,
          634922,
          634922,
          634922
         ],
         "yaxis": "y"
        },
        {
         "customdata": [
          [
           "Rear Window"
          ],
          [
           "Rear Window"
          ],
          [
           "Rear Window"
          ],
          [
           "Rear Window"
          ],
          [
           "Rear Window"
          ]
         ],
         "hovertemplate": "genre=Mystery<br>Prix=%{x}<br>Votes=%{y}<br>Films=%{customdata[0]}<extra></extra>",
         "legendgroup": "Mystery",
         "marker": {
          "color": "#636efa",
          "symbol": "circle"
         },
         "mode": "markers",
         "name": "Mystery",
         "orientation": "v",
         "showlegend": true,
         "type": "scatter",
         "x": [
          36.76,
          36.76,
          36.76,
          36.76,
          36.76
         ],
         "xaxis": "x",
         "y": [
          468018,
          468018,
          468018,
          468018,
          468018
         ],
         "yaxis": "y"
        }
       ],
       "layout": {
        "legend": {
         "title": {
          "text": "genre"
         },
         "tracegroupgap": 0
        },
        "margin": {
         "t": 60
        },
        "template": {
         "data": {
          "bar": [
           {
            "error_x": {
             "color": "#2a3f5f"
            },
            "error_y": {
             "color": "#2a3f5f"
            },
            "marker": {
             "line": {
              "color": "#E5ECF6",
              "width": 0.5
             },
             "pattern": {
              "fillmode": "overlay",
              "size": 10,
              "solidity": 0.2
             }
            },
            "type": "bar"
           }
          ],
          "barpolar": [
           {
            "marker": {
             "line": {
              "color": "#E5ECF6",
              "width": 0.5
             },
             "pattern": {
              "fillmode": "overlay",
              "size": 10,
              "solidity": 0.2
             }
            },
            "type": "barpolar"
           }
          ],
          "carpet": [
           {
            "aaxis": {
             "endlinecolor": "#2a3f5f",
             "gridcolor": "white",
             "linecolor": "white",
             "minorgridcolor": "white",
             "startlinecolor": "#2a3f5f"
            },
            "baxis": {
             "endlinecolor": "#2a3f5f",
             "gridcolor": "white",
             "linecolor": "white",
             "minorgridcolor": "white",
             "startlinecolor": "#2a3f5f"
            },
            "type": "carpet"
           }
          ],
          "choropleth": [
           {
            "colorbar": {
             "outlinewidth": 0,
             "ticks": ""
            },
            "type": "choropleth"
           }
          ],
          "contour": [
           {
            "colorbar": {
             "outlinewidth": 0,
             "ticks": ""
            },
            "colorscale": [
             [
              0,
              "#0d0887"
             ],
             [
              0.1111111111111111,
              "#46039f"
             ],
             [
              0.2222222222222222,
              "#7201a8"
             ],
             [
              0.3333333333333333,
              "#9c179e"
             ],
             [
              0.4444444444444444,
              "#bd3786"
             ],
             [
              0.5555555555555556,
              "#d8576b"
             ],
             [
              0.6666666666666666,
              "#ed7953"
             ],
             [
              0.7777777777777778,
              "#fb9f3a"
             ],
             [
              0.8888888888888888,
              "#fdca26"
             ],
             [
              1,
              "#f0f921"
             ]
            ],
            "type": "contour"
           }
          ],
          "contourcarpet": [
           {
            "colorbar": {
             "outlinewidth": 0,
             "ticks": ""
            },
            "type": "contourcarpet"
           }
          ],
          "heatmap": [
           {
            "colorbar": {
             "outlinewidth": 0,
             "ticks": ""
            },
            "colorscale": [
             [
              0,
              "#0d0887"
             ],
             [
              0.1111111111111111,
              "#46039f"
             ],
             [
              0.2222222222222222,
              "#7201a8"
             ],
             [
              0.3333333333333333,
              "#9c179e"
             ],
             [
              0.4444444444444444,
              "#bd3786"
             ],
             [
              0.5555555555555556,
              "#d8576b"
             ],
             [
              0.6666666666666666,
              "#ed7953"
             ],
             [
              0.7777777777777778,
              "#fb9f3a"
             ],
             [
              0.8888888888888888,
              "#fdca26"
             ],
             [
              1,
              "#f0f921"
             ]
            ],
            "type": "heatmap"
           }
          ],
          "heatmapgl": [
           {
            "colorbar": {
             "outlinewidth": 0,
             "ticks": ""
            },
            "colorscale": [
             [
              0,
              "#0d0887"
             ],
             [
              0.1111111111111111,
              "#46039f"
             ],
             [
              0.2222222222222222,
              "#7201a8"
             ],
             [
              0.3333333333333333,
              "#9c179e"
             ],
             [
              0.4444444444444444,
              "#bd3786"
             ],
             [
              0.5555555555555556,
              "#d8576b"
             ],
             [
              0.6666666666666666,
              "#ed7953"
             ],
             [
              0.7777777777777778,
              "#fb9f3a"
             ],
             [
              0.8888888888888888,
              "#fdca26"
             ],
             [
              1,
              "#f0f921"
             ]
            ],
            "type": "heatmapgl"
           }
          ],
          "histogram": [
           {
            "marker": {
             "pattern": {
              "fillmode": "overlay",
              "size": 10,
              "solidity": 0.2
             }
            },
            "type": "histogram"
           }
          ],
          "histogram2d": [
           {
            "colorbar": {
             "outlinewidth": 0,
             "ticks": ""
            },
            "colorscale": [
             [
              0,
              "#0d0887"
             ],
             [
              0.1111111111111111,
              "#46039f"
             ],
             [
              0.2222222222222222,
              "#7201a8"
             ],
             [
              0.3333333333333333,
              "#9c179e"
             ],
             [
              0.4444444444444444,
              "#bd3786"
             ],
             [
              0.5555555555555556,
              "#d8576b"
             ],
             [
              0.6666666666666666,
              "#ed7953"
             ],
             [
              0.7777777777777778,
              "#fb9f3a"
             ],
             [
              0.8888888888888888,
              "#fdca26"
             ],
             [
              1,
              "#f0f921"
             ]
            ],
            "type": "histogram2d"
           }
          ],
          "histogram2dcontour": [
           {
            "colorbar": {
             "outlinewidth": 0,
             "ticks": ""
            },
            "colorscale": [
             [
              0,
              "#0d0887"
             ],
             [
              0.1111111111111111,
              "#46039f"
             ],
             [
              0.2222222222222222,
              "#7201a8"
             ],
             [
              0.3333333333333333,
              "#9c179e"
             ],
             [
              0.4444444444444444,
              "#bd3786"
             ],
             [
              0.5555555555555556,
              "#d8576b"
             ],
             [
              0.6666666666666666,
              "#ed7953"
             ],
             [
              0.7777777777777778,
              "#fb9f3a"
             ],
             [
              0.8888888888888888,
              "#fdca26"
             ],
             [
              1,
              "#f0f921"
             ]
            ],
            "type": "histogram2dcontour"
           }
          ],
          "mesh3d": [
           {
            "colorbar": {
             "outlinewidth": 0,
             "ticks": ""
            },
            "type": "mesh3d"
           }
          ],
          "parcoords": [
           {
            "line": {
             "colorbar": {
              "outlinewidth": 0,
              "ticks": ""
             }
            },
            "type": "parcoords"
           }
          ],
          "pie": [
           {
            "automargin": true,
            "type": "pie"
           }
          ],
          "scatter": [
           {
            "marker": {
             "colorbar": {
              "outlinewidth": 0,
              "ticks": ""
             }
            },
            "type": "scatter"
           }
          ],
          "scatter3d": [
           {
            "line": {
             "colorbar": {
              "outlinewidth": 0,
              "ticks": ""
             }
            },
            "marker": {
             "colorbar": {
              "outlinewidth": 0,
              "ticks": ""
             }
            },
            "type": "scatter3d"
           }
          ],
          "scattercarpet": [
           {
            "marker": {
             "colorbar": {
              "outlinewidth": 0,
              "ticks": ""
             }
            },
            "type": "scattercarpet"
           }
          ],
          "scattergeo": [
           {
            "marker": {
             "colorbar": {
              "outlinewidth": 0,
              "ticks": ""
             }
            },
            "type": "scattergeo"
           }
          ],
          "scattergl": [
           {
            "marker": {
             "colorbar": {
              "outlinewidth": 0,
              "ticks": ""
             }
            },
            "type": "scattergl"
           }
          ],
          "scattermapbox": [
           {
            "marker": {
             "colorbar": {
              "outlinewidth": 0,
              "ticks": ""
             }
            },
            "type": "scattermapbox"
           }
          ],
          "scatterpolar": [
           {
            "marker": {
             "colorbar": {
              "outlinewidth": 0,
              "ticks": ""
             }
            },
            "type": "scatterpolar"
           }
          ],
          "scatterpolargl": [
           {
            "marker": {
             "colorbar": {
              "outlinewidth": 0,
              "ticks": ""
             }
            },
            "type": "scatterpolargl"
           }
          ],
          "scatterternary": [
           {
            "marker": {
             "colorbar": {
              "outlinewidth": 0,
              "ticks": ""
             }
            },
            "type": "scatterternary"
           }
          ],
          "surface": [
           {
            "colorbar": {
             "outlinewidth": 0,
             "ticks": ""
            },
            "colorscale": [
             [
              0,
              "#0d0887"
             ],
             [
              0.1111111111111111,
              "#46039f"
             ],
             [
              0.2222222222222222,
              "#7201a8"
             ],
             [
              0.3333333333333333,
              "#9c179e"
             ],
             [
              0.4444444444444444,
              "#bd3786"
             ],
             [
              0.5555555555555556,
              "#d8576b"
             ],
             [
              0.6666666666666666,
              "#ed7953"
             ],
             [
              0.7777777777777778,
              "#fb9f3a"
             ],
             [
              0.8888888888888888,
              "#fdca26"
             ],
             [
              1,
              "#f0f921"
             ]
            ],
            "type": "surface"
           }
          ],
          "table": [
           {
            "cells": {
             "fill": {
              "color": "#EBF0F8"
             },
             "line": {
              "color": "white"
             }
            },
            "header": {
             "fill": {
              "color": "#C8D4E3"
             },
             "line": {
              "color": "white"
             }
            },
            "type": "table"
           }
          ]
         },
         "layout": {
          "annotationdefaults": {
           "arrowcolor": "#2a3f5f",
           "arrowhead": 0,
           "arrowwidth": 1
          },
          "autotypenumbers": "strict",
          "coloraxis": {
           "colorbar": {
            "outlinewidth": 0,
            "ticks": ""
           }
          },
          "colorscale": {
           "diverging": [
            [
             0,
             "#8e0152"
            ],
            [
             0.1,
             "#c51b7d"
            ],
            [
             0.2,
             "#de77ae"
            ],
            [
             0.3,
             "#f1b6da"
            ],
            [
             0.4,
             "#fde0ef"
            ],
            [
             0.5,
             "#f7f7f7"
            ],
            [
             0.6,
             "#e6f5d0"
            ],
            [
             0.7,
             "#b8e186"
            ],
            [
             0.8,
             "#7fbc41"
            ],
            [
             0.9,
             "#4d9221"
            ],
            [
             1,
             "#276419"
            ]
           ],
           "sequential": [
            [
             0,
             "#0d0887"
            ],
            [
             0.1111111111111111,
             "#46039f"
            ],
            [
             0.2222222222222222,
             "#7201a8"
            ],
            [
             0.3333333333333333,
             "#9c179e"
            ],
            [
             0.4444444444444444,
             "#bd3786"
            ],
            [
             0.5555555555555556,
             "#d8576b"
            ],
            [
             0.6666666666666666,
             "#ed7953"
            ],
            [
             0.7777777777777778,
             "#fb9f3a"
            ],
            [
             0.8888888888888888,
             "#fdca26"
            ],
            [
             1,
             "#f0f921"
            ]
           ],
           "sequentialminus": [
            [
             0,
             "#0d0887"
            ],
            [
             0.1111111111111111,
             "#46039f"
            ],
            [
             0.2222222222222222,
             "#7201a8"
            ],
            [
             0.3333333333333333,
             "#9c179e"
            ],
            [
             0.4444444444444444,
             "#bd3786"
            ],
            [
             0.5555555555555556,
             "#d8576b"
            ],
            [
             0.6666666666666666,
             "#ed7953"
            ],
            [
             0.7777777777777778,
             "#fb9f3a"
            ],
            [
             0.8888888888888888,
             "#fdca26"
            ],
            [
             1,
             "#f0f921"
            ]
           ]
          },
          "colorway": [
           "#636efa",
           "#EF553B",
           "#00cc96",
           "#ab63fa",
           "#FFA15A",
           "#19d3f3",
           "#FF6692",
           "#B6E880",
           "#FF97FF",
           "#FECB52"
          ],
          "font": {
           "color": "#2a3f5f"
          },
          "geo": {
           "bgcolor": "white",
           "lakecolor": "white",
           "landcolor": "#E5ECF6",
           "showlakes": true,
           "showland": true,
           "subunitcolor": "white"
          },
          "hoverlabel": {
           "align": "left"
          },
          "hovermode": "closest",
          "mapbox": {
           "style": "light"
          },
          "paper_bgcolor": "white",
          "plot_bgcolor": "#E5ECF6",
          "polar": {
           "angularaxis": {
            "gridcolor": "white",
            "linecolor": "white",
            "ticks": ""
           },
           "bgcolor": "#E5ECF6",
           "radialaxis": {
            "gridcolor": "white",
            "linecolor": "white",
            "ticks": ""
           }
          },
          "scene": {
           "xaxis": {
            "backgroundcolor": "#E5ECF6",
            "gridcolor": "white",
            "gridwidth": 2,
            "linecolor": "white",
            "showbackground": true,
            "ticks": "",
            "zerolinecolor": "white"
           },
           "yaxis": {
            "backgroundcolor": "#E5ECF6",
            "gridcolor": "white",
            "gridwidth": 2,
            "linecolor": "white",
            "showbackground": true,
            "ticks": "",
            "zerolinecolor": "white"
           },
           "zaxis": {
            "backgroundcolor": "#E5ECF6",
            "gridcolor": "white",
            "gridwidth": 2,
            "linecolor": "white",
            "showbackground": true,
            "ticks": "",
            "zerolinecolor": "white"
           }
          },
          "shapedefaults": {
           "line": {
            "color": "#2a3f5f"
           }
          },
          "ternary": {
           "aaxis": {
            "gridcolor": "white",
            "linecolor": "white",
            "ticks": ""
           },
           "baxis": {
            "gridcolor": "white",
            "linecolor": "white",
            "ticks": ""
           },
           "bgcolor": "#E5ECF6",
           "caxis": {
            "gridcolor": "white",
            "linecolor": "white",
            "ticks": ""
           }
          },
          "title": {
           "x": 0.05
          },
          "xaxis": {
           "automargin": true,
           "gridcolor": "white",
           "linecolor": "white",
           "ticks": "",
           "title": {
            "standoff": 15
           },
           "zerolinecolor": "white",
           "zerolinewidth": 2
          },
          "yaxis": {
           "automargin": true,
           "gridcolor": "white",
           "linecolor": "white",
           "ticks": "",
           "title": {
            "standoff": 15
           },
           "zerolinecolor": "white",
           "zerolinewidth": 2
          }
         }
        },
        "xaxis": {
         "anchor": "y",
         "domain": [
          0,
          1
         ],
         "title": {
          "text": "Prix"
         }
        },
        "yaxis": {
         "anchor": "x",
         "domain": [
          0,
          1
         ],
         "showgrid": false,
         "title": {
          "text": "Nombre de votes"
         }
        }
       }
      },
      "text/html": [
       "<div>                            <div id=\"0546e592-25bb-4774-b768-98a3afaa72b1\" class=\"plotly-graph-div\" style=\"height:525px; width:100%;\"></div>            <script type=\"text/javascript\">                require([\"plotly\"], function(Plotly) {                    window.PLOTLYENV=window.PLOTLYENV || {};                                    if (document.getElementById(\"0546e592-25bb-4774-b768-98a3afaa72b1\")) {                    Plotly.newPlot(                        \"0546e592-25bb-4774-b768-98a3afaa72b1\",                        [{\"customdata\":[[\"The Shawshank Redemption\"],[\"Fight Club\"],[\"One Flew Over the Cuckoo's Nest\"],[\"American History X\"],[\"The Shawshank Redemption\"],[\"Fight Club\"],[\"One Flew Over the Cuckoo's Nest\"],[\"American History X\"],[\"The Shawshank Redemption\"],[\"Fight Club\"],[\"One Flew Over the Cuckoo's Nest\"],[\"American History X\"],[\"The Shawshank Redemption\"],[\"Fight Club\"],[\"One Flew Over the Cuckoo's Nest\"],[\"American History X\"],[\"The Shawshank Redemption\"],[\"Fight Club\"],[\"One Flew Over the Cuckoo's Nest\"],[\"American History X\"]],\"hovertemplate\":\"genre=Drama            <br>Prix=%{x}<br>Votes=%{y}<br>Films=%{customdata[0]}<extra></extra>\",\"legendgroup\":\"Drama            \",\"marker\":{\"color\":\"#636efa\",\"symbol\":\"circle\"},\"mode\":\"markers\",\"name\":\"Drama            \",\"orientation\":\"v\",\"showlegend\":true,\"type\":\"scatter\",\"x\":[28.34,37.03,112.0,6.72,28.34,37.03,112.0,6.72,28.34,37.03,112.0,6.72,28.34,37.03,112.0,6.72,28.34,37.03,112.0,6.72],\"xaxis\":\"x\",\"y\":[2480727,1954752,958396,1071714,2480727,1954752,958396,1071714,2480727,1954752,958396,1071714,2480727,1954752,958396,1071714,2480727,1954752,958396,1071714],\"yaxis\":\"y\"},{\"customdata\":[[\"The Godfather\"],[\"The Godfather: Part II\"],[\"12 Angry Men\"],[\"Pulp Fiction\"],[\"City of God\"],[\"The Green Mile\"],[\"Se7en\"],[\"The Silence of the Lambs\"],[\"The Departed\"],[\"The Usual Suspects\"],[\"The Godfather\"],[\"The Godfather: Part II\"],[\"12 Angry Men\"],[\"Pulp Fiction\"],[\"City of God\"],[\"The Green Mile\"],[\"Se7en\"],[\"The Silence of the Lambs\"],[\"The Departed\"],[\"The Usual Suspects\"],[\"The Godfather\"],[\"The Godfather: Part II\"],[\"12 Angry Men\"],[\"Pulp Fiction\"],[\"City of God\"],[\"The Green Mile\"],[\"Se7en\"],[\"The Silence of the Lambs\"],[\"The Departed\"],[\"The Usual Suspects\"],[\"The Godfather\"],[\"The Godfather: Part II\"],[\"12 Angry Men\"],[\"Pulp Fiction\"],[\"City of God\"],[\"The Green Mile\"],[\"Se7en\"],[\"The Silence of the Lambs\"],[\"The Departed\"],[\"The Usual Suspects\"],[\"The Godfather\"],[\"The Godfather: Part II\"],[\"12 Angry Men\"],[\"Pulp Fiction\"],[\"City of God\"],[\"The Green Mile\"],[\"Se7en\"],[\"The Silence of the Lambs\"],[\"The Departed\"],[\"The Usual Suspects\"]],\"hovertemplate\":\"genre=Crime<br>Prix=%{x}<br>Votes=%{y}<br>Films=%{customdata[0]}<extra></extra>\",\"legendgroup\":\"Crime\",\"marker\":{\"color\":\"#EF553B\",\"symbol\":\"circle\"},\"mode\":\"markers\",\"name\":\"Crime\",\"orientation\":\"v\",\"showlegend\":true,\"type\":\"scatter\",\"x\":[134.97,57.3,4.36,107.93,7.56,136.8,100.13,130.74,132.38,23.34,134.97,57.3,4.36,107.93,7.56,136.8,100.13,130.74,132.38,23.34,134.97,57.3,4.36,107.93,7.56,136.8,100.13,130.74,132.38,23.34,134.97,57.3,4.36,107.93,7.56,136.8,100.13,130.74,132.38,23.34,134.97,57.3,4.36,107.93,7.56,136.8,100.13,130.74,132.38,23.34],\"xaxis\":\"x\",\"y\":[1713388,1190161,734230,1920065,724865,1210823,1527203,1340386,1247602,1033563,1713388,1190161,734230,1920065,724865,1210823,1527203,1340386,1247602,1033563,1713388,1190161,734230,1920065,724865,1210823,1527203,1340386,1247602,1033563,1713388,1190161,734230,1920065,724865,1210823,1527203,1340386,1247602,1033563,1713388,1190161,734230,1920065,724865,1210823,1527203,1340386,1247602,1033563],\"yaxis\":\"y\"},{\"customdata\":[[\"The Dark Knight\"],[\"The Lord of the Rings: The Return of the King\"],[\"Inception\"],[\"The Lord of the Rings: The Fellowship of the Ring\"],[\"The Lord of the Rings: The Two Towers\"],[\"The Matrix\"],[\"Star Wars: Episode V - The Empire Strikes Back\"],[\"Star Wars: Episode IV - A New Hope\"],[\"Seven Samurai\"],[\"Gladiator\"],[\"L\\u00e9on: The Professional\"],[\"Terminator 2: Judgment Day\"],[\"The Dark Knight\"],[\"The Lord of the Rings: The Return of the King\"],[\"Inception\"],[\"The Lord of the Rings: The Fellowship of the Ring\"],[\"The Lord of the Rings: The Two Towers\"],[\"The Matrix\"],[\"Star Wars: Episode V - The Empire Strikes Back\"],[\"Star Wars: Episode IV - A New Hope\"],[\"Seven Samurai\"],[\"Gladiator\"],[\"L\\u00e9on: The Professional\"],[\"Terminator 2: Judgment Day\"],[\"The Dark Knight\"],[\"The Lord of the Rings: The Return of the King\"],[\"Inception\"],[\"The Lord of the Rings: The Fellowship of the Ring\"],[\"The Lord of the Rings: The Two Towers\"],[\"The Matrix\"],[\"Star Wars: Episode V - The Empire Strikes Back\"],[\"Star Wars: Episode IV - A New Hope\"],[\"Seven Samurai\"],[\"Gladiator\"],[\"L\\u00e9on: The Professional\"],[\"Terminator 2: Judgment Day\"],[\"The Dark Knight\"],[\"The Lord of the Rings: The Return of the King\"],[\"Inception\"],[\"The Lord of the Rings: The Fellowship of the Ring\"],[\"The Lord of the Rings: The Two Towers\"],[\"The Matrix\"],[\"Star Wars: Episode V - The Empire Strikes Back\"],[\"Star Wars: Episode IV - A New Hope\"],[\"Seven Samurai\"],[\"Gladiator\"],[\"L\\u00e9on: The Professional\"],[\"Terminator 2: Judgment Day\"],[\"The Dark Knight\"],[\"The Lord of the Rings: The Return of the King\"],[\"Inception\"],[\"The Lord of the Rings: The Fellowship of the Ring\"],[\"The Lord of the Rings: The Two Towers\"],[\"The Matrix\"],[\"Star Wars: Episode V - The Empire Strikes Back\"],[\"Star Wars: Episode IV - A New Hope\"],[\"Seven Samurai\"],[\"Gladiator\"],[\"L\\u00e9on: The Professional\"],[\"Terminator 2: Judgment Day\"]],\"hovertemplate\":\"genre=Action<br>Prix=%{x}<br>Votes=%{y}<br>Films=%{customdata[0]}<extra></extra>\",\"legendgroup\":\"Action\",\"marker\":{\"color\":\"#00cc96\",\"symbol\":\"circle\"},\"mode\":\"markers\",\"name\":\"Action\",\"orientation\":\"v\",\"showlegend\":true,\"type\":\"scatter\",\"x\":[534.86,377.85,292.58,315.54,342.55,171.48,290.48,322.74,0.27,187.71,19.5,204.84,534.86,377.85,292.58,315.54,342.55,171.48,290.48,322.74,0.27,187.71,19.5,204.84,534.86,377.85,292.58,315.54,342.55,171.48,290.48,322.74,0.27,187.71,19.5,204.84,534.86,377.85,292.58,315.54,342.55,171.48,290.48,322.74,0.27,187.71,19.5,204.84,534.86,377.85,292.58,315.54,342.55,171.48,290.48,322.74,0.27,187.71,19.5,204.84],\"xaxis\":\"x\",\"y\":[2435080,1718951,2185204,1740226,1554016,1772635,1211382,1283157,330526,1407509,1088535,1038625,2435080,1718951,2185204,1740226,1554016,1772635,1211382,1283157,330526,1407509,1088535,1038625,2435080,1718951,2185204,1740226,1554016,1772635,1211382,1283157,330526,1407509,1088535,1038625,2435080,1718951,2185204,1740226,1554016,1772635,1211382,1283157,330526,1407509,1088535,1038625,2435080,1718951,2185204,1740226,1554016,1772635,1211382,1283157,330526,1407509,1088535,1038625],\"yaxis\":\"y\"},{\"customdata\":[[\"Schindler's List\"],[\"Goodfellas\"],[\"The Intouchables\"],[\"The Pianist\"],[\"Schindler's List\"],[\"Goodfellas\"],[\"The Intouchables\"],[\"The Pianist\"],[\"Schindler's List\"],[\"Goodfellas\"],[\"The Intouchables\"],[\"The Pianist\"],[\"Schindler's List\"],[\"Goodfellas\"],[\"The Intouchables\"],[\"The Pianist\"],[\"Schindler's List\"],[\"Goodfellas\"],[\"The Intouchables\"],[\"The Pianist\"]],\"hovertemplate\":\"genre=Biography<br>Prix=%{x}<br>Votes=%{y}<br>Films=%{customdata[0]}<extra></extra>\",\"legendgroup\":\"Biography\",\"marker\":{\"color\":\"#ab63fa\",\"symbol\":\"circle\"},\"mode\":\"markers\",\"name\":\"Biography\",\"orientation\":\"v\",\"showlegend\":true,\"type\":\"scatter\",\"x\":[96.9,46.84,13.18,32.57,96.9,46.84,13.18,32.57,96.9,46.84,13.18,32.57,96.9,46.84,13.18,32.57,96.9,46.84,13.18,32.57],\"xaxis\":\"x\",\"y\":[1273515,1076837,801782,775761,1273515,1076837,801782,775761,1273515,1076837,801782,775761,1273515,1076837,801782,775761,1273515,1076837,801782,775761],\"yaxis\":\"y\"},{\"customdata\":[[\"Forrest Gump\"],[\"Saving Private Ryan\"],[\"Whiplash\"],[\"The Prestige\"],[\"Cinema Paradiso\"],[\"Casablanca\"],[\"Forrest Gump\"],[\"Saving Private Ryan\"],[\"Whiplash\"],[\"The Prestige\"],[\"Cinema Paradiso\"],[\"Casablanca\"],[\"Forrest Gump\"],[\"Saving Private Ryan\"],[\"Whiplash\"],[\"The Prestige\"],[\"Cinema Paradiso\"],[\"Casablanca\"],[\"Forrest Gump\"],[\"Saving Private Ryan\"],[\"Whiplash\"],[\"The Prestige\"],[\"Cinema Paradiso\"],[\"Casablanca\"],[\"Forrest Gump\"],[\"Saving Private Ryan\"],[\"Whiplash\"],[\"The Prestige\"],[\"Cinema Paradiso\"],[\"Casablanca\"]],\"hovertemplate\":\"genre=Drama<br>Prix=%{x}<br>Votes=%{y}<br>Films=%{customdata[0]}<extra></extra>\",\"legendgroup\":\"Drama\",\"marker\":{\"color\":\"#FFA15A\",\"symbol\":\"circle\"},\"mode\":\"markers\",\"name\":\"Drama\",\"orientation\":\"v\",\"showlegend\":true,\"type\":\"scatter\",\"x\":[330.25,216.54,13.09,53.09,11.99,1.02,330.25,216.54,13.09,53.09,11.99,1.02,330.25,216.54,13.09,53.09,11.99,1.02,330.25,216.54,13.09,53.09,11.99,1.02,330.25,216.54,13.09,53.09,11.99,1.02],\"xaxis\":\"x\",\"y\":[1918121,1299828,770009,1252211,246863,545364,1918121,1299828,770009,1252211,246863,545364,1918121,1299828,770009,1252211,246863,545364,1918121,1299828,770009,1252211,246863,545364,1918121,1299828,770009,1252211,246863,545364],\"yaxis\":\"y\"},{\"customdata\":[[\"The Good, the Bad and the Ugly\"],[\"Once Upon a Time in the West\"],[\"The Good, the Bad and the Ugly\"],[\"Once Upon a Time in the West\"],[\"The Good, the Bad and the Ugly\"],[\"Once Upon a Time in the West\"],[\"The Good, the Bad and the Ugly\"],[\"Once Upon a Time in the West\"],[\"The Good, the Bad and the Ugly\"],[\"Once Upon a Time in the West\"]],\"hovertemplate\":\"genre=Western            <br>Prix=%{x}<br>Votes=%{y}<br>Films=%{customdata[0]}<extra></extra>\",\"legendgroup\":\"Western            \",\"marker\":{\"color\":\"#19d3f3\",\"symbol\":\"circle\"},\"mode\":\"markers\",\"name\":\"Western            \",\"orientation\":\"v\",\"showlegend\":true,\"type\":\"scatter\",\"x\":[6.1,5.32,6.1,5.32,6.1,5.32,6.1,5.32,6.1,5.32],\"xaxis\":\"x\",\"y\":[721512,315851,721512,315851,721512,315851,721512,315851,721512,315851],\"yaxis\":\"y\"},{\"customdata\":[[\"Parasite\"],[\"Life Is Beautiful\"],[\"Parasite\"],[\"Life Is Beautiful\"],[\"Parasite\"],[\"Life Is Beautiful\"],[\"Parasite\"],[\"Life Is Beautiful\"],[\"Parasite\"],[\"Life Is Beautiful\"]],\"hovertemplate\":\"genre=Comedy<br>Prix=%{x}<br>Votes=%{y}<br>Films=%{customdata[0]}<extra></extra>\",\"legendgroup\":\"Comedy\",\"marker\":{\"color\":\"#FF6692\",\"symbol\":\"circle\"},\"mode\":\"markers\",\"name\":\"Comedy\",\"orientation\":\"v\",\"showlegend\":true,\"type\":\"scatter\",\"x\":[53.37,57.6,53.37,57.6,53.37,57.6,53.37,57.6,53.37,57.6],\"xaxis\":\"x\",\"y\":[676270,655757,676270,655757,676270,655757,676270,655757,676270,655757],\"yaxis\":\"y\"},{\"customdata\":[[\"Interstellar\"],[\"Back to the Future\"],[\"Interstellar\"],[\"Back to the Future\"],[\"Interstellar\"],[\"Back to the Future\"],[\"Interstellar\"],[\"Back to the Future\"],[\"Interstellar\"],[\"Back to the Future\"]],\"hovertemplate\":\"genre=Adventure<br>Prix=%{x}<br>Votes=%{y}<br>Films=%{customdata[0]}<extra></extra>\",\"legendgroup\":\"Adventure\",\"marker\":{\"color\":\"#B6E880\",\"symbol\":\"circle\"},\"mode\":\"markers\",\"name\":\"Adventure\",\"orientation\":\"v\",\"showlegend\":true,\"type\":\"scatter\",\"x\":[188.02,210.61,188.02,210.61,188.02,210.61,188.02,210.61,188.02,210.61],\"xaxis\":\"x\",\"y\":[1631810,1119879,1631810,1119879,1631810,1119879,1631810,1119879,1631810,1119879],\"yaxis\":\"y\"},{\"customdata\":[[\"Spirited Away\"],[\"The Lion King\"],[\"Spirited Away\"],[\"The Lion King\"],[\"Spirited Away\"],[\"The Lion King\"],[\"Spirited Away\"],[\"The Lion King\"],[\"Spirited Away\"],[\"The Lion King\"]],\"hovertemplate\":\"genre=Animation<br>Prix=%{x}<br>Votes=%{y}<br>Films=%{customdata[0]}<extra></extra>\",\"legendgroup\":\"Animation\",\"marker\":{\"color\":\"#FF97FF\",\"symbol\":\"circle\"},\"mode\":\"markers\",\"name\":\"Animation\",\"orientation\":\"v\",\"showlegend\":true,\"type\":\"scatter\",\"x\":[10.06,422.78,10.06,422.78,10.06,422.78,10.06,422.78,10.06,422.78],\"xaxis\":\"x\",\"y\":[699312,989092,699312,989092,699312,989092,699312,989092,699312,989092],\"yaxis\":\"y\"},{\"customdata\":[[\"Psycho\"],[\"Psycho\"],[\"Psycho\"],[\"Psycho\"],[\"Psycho\"]],\"hovertemplate\":\"genre=Horror<br>Prix=%{x}<br>Votes=%{y}<br>Films=%{customdata[0]}<extra></extra>\",\"legendgroup\":\"Horror\",\"marker\":{\"color\":\"#FECB52\",\"symbol\":\"circle\"},\"mode\":\"markers\",\"name\":\"Horror\",\"orientation\":\"v\",\"showlegend\":true,\"type\":\"scatter\",\"x\":[32.0,32.0,32.0,32.0,32.0],\"xaxis\":\"x\",\"y\":[634922,634922,634922,634922,634922],\"yaxis\":\"y\"},{\"customdata\":[[\"Rear Window\"],[\"Rear Window\"],[\"Rear Window\"],[\"Rear Window\"],[\"Rear Window\"]],\"hovertemplate\":\"genre=Mystery<br>Prix=%{x}<br>Votes=%{y}<br>Films=%{customdata[0]}<extra></extra>\",\"legendgroup\":\"Mystery\",\"marker\":{\"color\":\"#636efa\",\"symbol\":\"circle\"},\"mode\":\"markers\",\"name\":\"Mystery\",\"orientation\":\"v\",\"showlegend\":true,\"type\":\"scatter\",\"x\":[36.76,36.76,36.76,36.76,36.76],\"xaxis\":\"x\",\"y\":[468018,468018,468018,468018,468018],\"yaxis\":\"y\"}],                        {\"legend\":{\"title\":{\"text\":\"genre\"},\"tracegroupgap\":0},\"margin\":{\"t\":60},\"template\":{\"data\":{\"bar\":[{\"error_x\":{\"color\":\"#2a3f5f\"},\"error_y\":{\"color\":\"#2a3f5f\"},\"marker\":{\"line\":{\"color\":\"#E5ECF6\",\"width\":0.5},\"pattern\":{\"fillmode\":\"overlay\",\"size\":10,\"solidity\":0.2}},\"type\":\"bar\"}],\"barpolar\":[{\"marker\":{\"line\":{\"color\":\"#E5ECF6\",\"width\":0.5},\"pattern\":{\"fillmode\":\"overlay\",\"size\":10,\"solidity\":0.2}},\"type\":\"barpolar\"}],\"carpet\":[{\"aaxis\":{\"endlinecolor\":\"#2a3f5f\",\"gridcolor\":\"white\",\"linecolor\":\"white\",\"minorgridcolor\":\"white\",\"startlinecolor\":\"#2a3f5f\"},\"baxis\":{\"endlinecolor\":\"#2a3f5f\",\"gridcolor\":\"white\",\"linecolor\":\"white\",\"minorgridcolor\":\"white\",\"startlinecolor\":\"#2a3f5f\"},\"type\":\"carpet\"}],\"choropleth\":[{\"colorbar\":{\"outlinewidth\":0,\"ticks\":\"\"},\"type\":\"choropleth\"}],\"contour\":[{\"colorbar\":{\"outlinewidth\":0,\"ticks\":\"\"},\"colorscale\":[[0.0,\"#0d0887\"],[0.1111111111111111,\"#46039f\"],[0.2222222222222222,\"#7201a8\"],[0.3333333333333333,\"#9c179e\"],[0.4444444444444444,\"#bd3786\"],[0.5555555555555556,\"#d8576b\"],[0.6666666666666666,\"#ed7953\"],[0.7777777777777778,\"#fb9f3a\"],[0.8888888888888888,\"#fdca26\"],[1.0,\"#f0f921\"]],\"type\":\"contour\"}],\"contourcarpet\":[{\"colorbar\":{\"outlinewidth\":0,\"ticks\":\"\"},\"type\":\"contourcarpet\"}],\"heatmap\":[{\"colorbar\":{\"outlinewidth\":0,\"ticks\":\"\"},\"colorscale\":[[0.0,\"#0d0887\"],[0.1111111111111111,\"#46039f\"],[0.2222222222222222,\"#7201a8\"],[0.3333333333333333,\"#9c179e\"],[0.4444444444444444,\"#bd3786\"],[0.5555555555555556,\"#d8576b\"],[0.6666666666666666,\"#ed7953\"],[0.7777777777777778,\"#fb9f3a\"],[0.8888888888888888,\"#fdca26\"],[1.0,\"#f0f921\"]],\"type\":\"heatmap\"}],\"heatmapgl\":[{\"colorbar\":{\"outlinewidth\":0,\"ticks\":\"\"},\"colorscale\":[[0.0,\"#0d0887\"],[0.1111111111111111,\"#46039f\"],[0.2222222222222222,\"#7201a8\"],[0.3333333333333333,\"#9c179e\"],[0.4444444444444444,\"#bd3786\"],[0.5555555555555556,\"#d8576b\"],[0.6666666666666666,\"#ed7953\"],[0.7777777777777778,\"#fb9f3a\"],[0.8888888888888888,\"#fdca26\"],[1.0,\"#f0f921\"]],\"type\":\"heatmapgl\"}],\"histogram\":[{\"marker\":{\"pattern\":{\"fillmode\":\"overlay\",\"size\":10,\"solidity\":0.2}},\"type\":\"histogram\"}],\"histogram2d\":[{\"colorbar\":{\"outlinewidth\":0,\"ticks\":\"\"},\"colorscale\":[[0.0,\"#0d0887\"],[0.1111111111111111,\"#46039f\"],[0.2222222222222222,\"#7201a8\"],[0.3333333333333333,\"#9c179e\"],[0.4444444444444444,\"#bd3786\"],[0.5555555555555556,\"#d8576b\"],[0.6666666666666666,\"#ed7953\"],[0.7777777777777778,\"#fb9f3a\"],[0.8888888888888888,\"#fdca26\"],[1.0,\"#f0f921\"]],\"type\":\"histogram2d\"}],\"histogram2dcontour\":[{\"colorbar\":{\"outlinewidth\":0,\"ticks\":\"\"},\"colorscale\":[[0.0,\"#0d0887\"],[0.1111111111111111,\"#46039f\"],[0.2222222222222222,\"#7201a8\"],[0.3333333333333333,\"#9c179e\"],[0.4444444444444444,\"#bd3786\"],[0.5555555555555556,\"#d8576b\"],[0.6666666666666666,\"#ed7953\"],[0.7777777777777778,\"#fb9f3a\"],[0.8888888888888888,\"#fdca26\"],[1.0,\"#f0f921\"]],\"type\":\"histogram2dcontour\"}],\"mesh3d\":[{\"colorbar\":{\"outlinewidth\":0,\"ticks\":\"\"},\"type\":\"mesh3d\"}],\"parcoords\":[{\"line\":{\"colorbar\":{\"outlinewidth\":0,\"ticks\":\"\"}},\"type\":\"parcoords\"}],\"pie\":[{\"automargin\":true,\"type\":\"pie\"}],\"scatter\":[{\"marker\":{\"colorbar\":{\"outlinewidth\":0,\"ticks\":\"\"}},\"type\":\"scatter\"}],\"scatter3d\":[{\"line\":{\"colorbar\":{\"outlinewidth\":0,\"ticks\":\"\"}},\"marker\":{\"colorbar\":{\"outlinewidth\":0,\"ticks\":\"\"}},\"type\":\"scatter3d\"}],\"scattercarpet\":[{\"marker\":{\"colorbar\":{\"outlinewidth\":0,\"ticks\":\"\"}},\"type\":\"scattercarpet\"}],\"scattergeo\":[{\"marker\":{\"colorbar\":{\"outlinewidth\":0,\"ticks\":\"\"}},\"type\":\"scattergeo\"}],\"scattergl\":[{\"marker\":{\"colorbar\":{\"outlinewidth\":0,\"ticks\":\"\"}},\"type\":\"scattergl\"}],\"scattermapbox\":[{\"marker\":{\"colorbar\":{\"outlinewidth\":0,\"ticks\":\"\"}},\"type\":\"scattermapbox\"}],\"scatterpolar\":[{\"marker\":{\"colorbar\":{\"outlinewidth\":0,\"ticks\":\"\"}},\"type\":\"scatterpolar\"}],\"scatterpolargl\":[{\"marker\":{\"colorbar\":{\"outlinewidth\":0,\"ticks\":\"\"}},\"type\":\"scatterpolargl\"}],\"scatterternary\":[{\"marker\":{\"colorbar\":{\"outlinewidth\":0,\"ticks\":\"\"}},\"type\":\"scatterternary\"}],\"surface\":[{\"colorbar\":{\"outlinewidth\":0,\"ticks\":\"\"},\"colorscale\":[[0.0,\"#0d0887\"],[0.1111111111111111,\"#46039f\"],[0.2222222222222222,\"#7201a8\"],[0.3333333333333333,\"#9c179e\"],[0.4444444444444444,\"#bd3786\"],[0.5555555555555556,\"#d8576b\"],[0.6666666666666666,\"#ed7953\"],[0.7777777777777778,\"#fb9f3a\"],[0.8888888888888888,\"#fdca26\"],[1.0,\"#f0f921\"]],\"type\":\"surface\"}],\"table\":[{\"cells\":{\"fill\":{\"color\":\"#EBF0F8\"},\"line\":{\"color\":\"white\"}},\"header\":{\"fill\":{\"color\":\"#C8D4E3\"},\"line\":{\"color\":\"white\"}},\"type\":\"table\"}]},\"layout\":{\"annotationdefaults\":{\"arrowcolor\":\"#2a3f5f\",\"arrowhead\":0,\"arrowwidth\":1},\"autotypenumbers\":\"strict\",\"coloraxis\":{\"colorbar\":{\"outlinewidth\":0,\"ticks\":\"\"}},\"colorscale\":{\"diverging\":[[0,\"#8e0152\"],[0.1,\"#c51b7d\"],[0.2,\"#de77ae\"],[0.3,\"#f1b6da\"],[0.4,\"#fde0ef\"],[0.5,\"#f7f7f7\"],[0.6,\"#e6f5d0\"],[0.7,\"#b8e186\"],[0.8,\"#7fbc41\"],[0.9,\"#4d9221\"],[1,\"#276419\"]],\"sequential\":[[0.0,\"#0d0887\"],[0.1111111111111111,\"#46039f\"],[0.2222222222222222,\"#7201a8\"],[0.3333333333333333,\"#9c179e\"],[0.4444444444444444,\"#bd3786\"],[0.5555555555555556,\"#d8576b\"],[0.6666666666666666,\"#ed7953\"],[0.7777777777777778,\"#fb9f3a\"],[0.8888888888888888,\"#fdca26\"],[1.0,\"#f0f921\"]],\"sequentialminus\":[[0.0,\"#0d0887\"],[0.1111111111111111,\"#46039f\"],[0.2222222222222222,\"#7201a8\"],[0.3333333333333333,\"#9c179e\"],[0.4444444444444444,\"#bd3786\"],[0.5555555555555556,\"#d8576b\"],[0.6666666666666666,\"#ed7953\"],[0.7777777777777778,\"#fb9f3a\"],[0.8888888888888888,\"#fdca26\"],[1.0,\"#f0f921\"]]},\"colorway\":[\"#636efa\",\"#EF553B\",\"#00cc96\",\"#ab63fa\",\"#FFA15A\",\"#19d3f3\",\"#FF6692\",\"#B6E880\",\"#FF97FF\",\"#FECB52\"],\"font\":{\"color\":\"#2a3f5f\"},\"geo\":{\"bgcolor\":\"white\",\"lakecolor\":\"white\",\"landcolor\":\"#E5ECF6\",\"showlakes\":true,\"showland\":true,\"subunitcolor\":\"white\"},\"hoverlabel\":{\"align\":\"left\"},\"hovermode\":\"closest\",\"mapbox\":{\"style\":\"light\"},\"paper_bgcolor\":\"white\",\"plot_bgcolor\":\"#E5ECF6\",\"polar\":{\"angularaxis\":{\"gridcolor\":\"white\",\"linecolor\":\"white\",\"ticks\":\"\"},\"bgcolor\":\"#E5ECF6\",\"radialaxis\":{\"gridcolor\":\"white\",\"linecolor\":\"white\",\"ticks\":\"\"}},\"scene\":{\"xaxis\":{\"backgroundcolor\":\"#E5ECF6\",\"gridcolor\":\"white\",\"gridwidth\":2,\"linecolor\":\"white\",\"showbackground\":true,\"ticks\":\"\",\"zerolinecolor\":\"white\"},\"yaxis\":{\"backgroundcolor\":\"#E5ECF6\",\"gridcolor\":\"white\",\"gridwidth\":2,\"linecolor\":\"white\",\"showbackground\":true,\"ticks\":\"\",\"zerolinecolor\":\"white\"},\"zaxis\":{\"backgroundcolor\":\"#E5ECF6\",\"gridcolor\":\"white\",\"gridwidth\":2,\"linecolor\":\"white\",\"showbackground\":true,\"ticks\":\"\",\"zerolinecolor\":\"white\"}},\"shapedefaults\":{\"line\":{\"color\":\"#2a3f5f\"}},\"ternary\":{\"aaxis\":{\"gridcolor\":\"white\",\"linecolor\":\"white\",\"ticks\":\"\"},\"baxis\":{\"gridcolor\":\"white\",\"linecolor\":\"white\",\"ticks\":\"\"},\"bgcolor\":\"#E5ECF6\",\"caxis\":{\"gridcolor\":\"white\",\"linecolor\":\"white\",\"ticks\":\"\"}},\"title\":{\"x\":0.05},\"xaxis\":{\"automargin\":true,\"gridcolor\":\"white\",\"linecolor\":\"white\",\"ticks\":\"\",\"title\":{\"standoff\":15},\"zerolinecolor\":\"white\",\"zerolinewidth\":2},\"yaxis\":{\"automargin\":true,\"gridcolor\":\"white\",\"linecolor\":\"white\",\"ticks\":\"\",\"title\":{\"standoff\":15},\"zerolinecolor\":\"white\",\"zerolinewidth\":2}}},\"xaxis\":{\"anchor\":\"y\",\"domain\":[0.0,1.0],\"title\":{\"text\":\"Prix\"}},\"yaxis\":{\"anchor\":\"x\",\"domain\":[0.0,1.0],\"showgrid\":false,\"title\":{\"text\":\"Nombre de votes\"}}},                        {\"responsive\": true}                    ).then(function(){\n",
       "                            \n",
       "var gd = document.getElementById('0546e592-25bb-4774-b768-98a3afaa72b1');\n",
       "var x = new MutationObserver(function (mutations, observer) {{\n",
       "        var display = window.getComputedStyle(gd).display;\n",
       "        if (!display || display === 'none') {{\n",
       "            console.log([gd, 'removed!']);\n",
       "            Plotly.purge(gd);\n",
       "            observer.disconnect();\n",
       "        }}\n",
       "}});\n",
       "\n",
       "// Listen for the removal of the full notebook cells\n",
       "var notebookContainer = gd.closest('#notebook-container');\n",
       "if (notebookContainer) {{\n",
       "    x.observe(notebookContainer, {childList: true});\n",
       "}}\n",
       "\n",
       "// Listen for the clearing of the current output cell\n",
       "var outputEl = gd.closest('.output');\n",
       "if (outputEl) {{\n",
       "    x.observe(outputEl, {childList: true});\n",
       "}}\n",
       "\n",
       "                        })                };                });            </script>        </div>"
      ]
     },
     "metadata": {},
     "output_type": "display_data"
    }
   ],
   "source": [
    "fig = px.scatter(df, x='Prix', y='Votes', hover_data=['Films'],\n",
    "                color='genre')\n",
    "\n",
    "fig.update_layout(font=dict(),\n",
    "                 xaxis=dict(title='Prix'),\n",
    "                 yaxis=dict(title='Nombre de votes', showgrid=False))"
   ]
  },
  {
   "cell_type": "markdown",
   "id": "0b627497",
   "metadata": {},
   "source": [
    "📊 Densités"
   ]
  },
  {
   "cell_type": "code",
   "execution_count": 52,
   "id": "74b17ced",
   "metadata": {},
   "outputs": [
    {
     "name": "stderr",
     "output_type": "stream",
     "text": [
      "C:\\Users\\zaome\\anaconda3\\lib\\site-packages\\seaborn\\distributions.py:2557: FutureWarning:\n",
      "\n",
      "`distplot` is a deprecated function and will be removed in a future version. Please adapt your code to use either `displot` (a figure-level function with similar flexibility) or `histplot` (an axes-level function for histograms).\n",
      "\n"
     ]
    },
    {
     "data": {
      "image/png": "[encoded data removed]",
      "text/plain": [
       "<Figure size 432x288 with 1 Axes>"
      ]
     },
     "metadata": {
      "needs_background": "light"
     },
     "output_type": "display_data"
    }
   ],
   "source": [
    "ax = sns.distplot(df['Prix'])"
   ]
  },
  {
   "cell_type": "code",
   "execution_count": 53,
   "id": "f268b51b",
   "metadata": {},
   "outputs": [
    {
     "name": "stderr",
     "output_type": "stream",
     "text": [
      "C:\\Users\\zaome\\anaconda3\\lib\\site-packages\\seaborn\\distributions.py:2557: FutureWarning:\n",
      "\n",
      "`distplot` is a deprecated function and will be removed in a future version. Please adapt your code to use either `displot` (a figure-level function with similar flexibility) or `histplot` (an axes-level function for histograms).\n",
      "\n"
     ]
    },
    {
     "data": {
      "image/png": "[encoded data removed]",
      "text/plain": [
       "<Figure size 432x288 with 1 Axes>"
      ]
     },
     "metadata": {
      "needs_background": "light"
     },
     "output_type": "display_data"
    }
   ],
   "source": [
    "ax = sns.distplot(df['Metascore'])"
   ]
  },
  {
   "cell_type": "code",
   "execution_count": 56,
   "id": "b2f06ad2",
   "metadata": {},
   "outputs": [
    {
     "name": "stderr",
     "output_type": "stream",
     "text": [
      "C:\\Users\\zaome\\anaconda3\\lib\\site-packages\\seaborn\\distributions.py:2557: FutureWarning:\n",
      "\n",
      "`distplot` is a deprecated function and will be removed in a future version. Please adapt your code to use either `displot` (a figure-level function with similar flexibility) or `histplot` (an axes-level function for histograms).\n",
      "\n"
     ]
    },
    {
     "data": {
      "image/png": "[encoded data removed]",
      "text/plain": [
       "<Figure size 432x288 with 1 Axes>"
      ]
     },
     "metadata": {
      "needs_background": "light"
     },
     "output_type": "display_data"
    }
   ],
   "source": [
    "ax = sns.distplot(df['Note'])"
   ]
  },
  {
   "cell_type": "code",
   "execution_count": null,
   "id": "f94af6c4",
   "metadata": {},
   "outputs": [],
   "source": []
  }
 ],
 "metadata": {
  "kernelspec": {
   "display_name": "Python 3",
   "language": "python",
   "name": "python3"
  },
  "language_info": {
   "codemirror_mode": {
    "name": "ipython",
    "version": 3
   },
   "file_extension": ".py",
   "mimetype": "text/x-python",
   "name": "python",
   "nbconvert_exporter": "python",
   "pygments_lexer": "ipython3",
   "version": "3.8.8"
  }
 },
 "nbformat": 4,
 "nbformat_minor": 5
}
